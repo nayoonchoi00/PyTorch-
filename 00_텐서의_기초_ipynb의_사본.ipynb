{
  "cells": [
    {
      "cell_type": "markdown",
      "metadata": {
        "id": "view-in-github",
        "colab_type": "text"
      },
      "source": [
        "<a href=\"https://colab.research.google.com/github/nayoonchoi00/PyTorch-DL/blob/main/00_%ED%85%90%EC%84%9C%EC%9D%98_%EA%B8%B0%EC%B4%88_ipynb%EC%9D%98_%EC%82%AC%EB%B3%B8.ipynb\" target=\"_parent\"><img src=\"https://colab.research.google.com/assets/colab-badge.svg\" alt=\"Open In Colab\"/></a>"
      ]
    },
    {
      "cell_type": "markdown",
      "metadata": {
        "id": "Q5vQyfq5DY2V"
      },
      "source": [
        "## 스칼라, 벡터, 메트릭스, 텐서\n"
      ]
    },
    {
      "cell_type": "markdown",
      "metadata": {
        "id": "wnchJZceDY2X"
      },
      "source": [
        "아래의 그림에서 잘 설명되어 있듯이\n",
        "\n",
        "- 단일 값은 `Scalar`\n",
        "- 1D(1차원) 데이터는 `Vector`\n",
        "- 2D(행렬) 데이터는 `Matrix`\n",
        "- 3차원 이상의 데이터는 `Tensor`\n"
      ]
    },
    {
      "cell_type": "code",
      "execution_count": 1,
      "metadata": {
        "id": "uBe-3VMWDY2X",
        "colab": {
          "base_uri": "https://localhost:8080/",
          "height": 293
        },
        "outputId": "eb3f8cdb-acf5-49b4-ff6f-1589cfa6e7d9"
      },
      "outputs": [
        {
          "output_type": "execute_result",
          "data": {
            "text/html": [
              "<img src=\"https://mblogthumb-phinf.pstatic.net/MjAyMDA1MjVfMTM0/MDAxNTkwMzc4MTY4MDQy.iOzxIfhew8Bsto7uqNW3QYj-k9bysF775jXYLECD6bwg.uMJ87NPURvklkXF2TXFnygaSnc32erHm_mXbnKgvO24g.PNG.nabilera1/image.png?type=w800\"/>"
            ],
            "text/plain": [
              "<IPython.core.display.Image object>"
            ]
          },
          "metadata": {},
          "execution_count": 1
        }
      ],
      "source": [
        "from IPython.display import Image\n",
        "\n",
        "Image(\n",
        "    url=\"https://mblogthumb-phinf.pstatic.net/MjAyMDA1MjVfMTM0/MDAxNTkwMzc4MTY4MDQy.iOzxIfhew8Bsto7uqNW3QYj-k9bysF775jXYLECD6bwg.uMJ87NPURvklkXF2TXFnygaSnc32erHm_mXbnKgvO24g.PNG.nabilera1/image.png?type=w800\"\n",
        ")"
      ]
    },
    {
      "cell_type": "markdown",
      "metadata": {
        "id": "PoyfHLaZDY2Y"
      },
      "source": [
        "## Tensor의 특성\n",
        "\n",
        "- `torch.Tensor`는 단일 데이터 타입(single data type)을 가집니다.\n",
        "- `torch.Tensor` 간의 연산은 **같은 데이터타입**일 경우에만 가능합니다.\n",
        "- `Numpy`의 배열 연산으로 수행할 수 있는 내용도, GPU를 활용하여 빠르게 학습하려는 경우 `torch.Tensor`로 변환할 수 있습니다.\n"
      ]
    },
    {
      "cell_type": "markdown",
      "metadata": {
        "id": "sYlvNxAVDY2Y"
      },
      "source": [
        "## 필요한 모듈 import\n"
      ]
    },
    {
      "cell_type": "code",
      "execution_count": 1,
      "metadata": {
        "id": "TEP0uLhPDY2Y"
      },
      "outputs": [],
      "source": [
        "# 모듈 import\n",
        "import torch\n",
        "import numpy as np"
      ]
    },
    {
      "cell_type": "markdown",
      "metadata": {
        "id": "UGwd05byDY2Y"
      },
      "source": [
        "pytorch version 체크\n"
      ]
    },
    {
      "cell_type": "code",
      "execution_count": 2,
      "metadata": {
        "id": "r9k-LbykDY2Z",
        "colab": {
          "base_uri": "https://localhost:8080/"
        },
        "outputId": "d1212ada-709e-4efb-b2ec-6c9bda8d66c3"
      },
      "outputs": [
        {
          "output_type": "stream",
          "name": "stdout",
          "text": [
            "2.4.0+cu121\n"
          ]
        }
      ],
      "source": [
        "print(torch.__version__)"
      ]
    },
    {
      "cell_type": "markdown",
      "metadata": {
        "id": "jpisuxfWDY2Z"
      },
      "source": [
        "## Numpy로부터 Tensor 변환\n",
        "\n",
        "- 방법1. `torch.from_numpy()`\n",
        "- 방법2. `torch.as_tensor()`\n",
        "- 방법3. `torch.tensor()`\n"
      ]
    },
    {
      "cell_type": "code",
      "execution_count": 3,
      "metadata": {
        "id": "LEt0T4OpDY2Z",
        "colab": {
          "base_uri": "https://localhost:8080/"
        },
        "outputId": "e38e31de-fc3f-4e8e-b4ae-01d2a57931ef"
      },
      "outputs": [
        {
          "output_type": "stream",
          "name": "stdout",
          "text": [
            "[1 3 5 7 9]\n",
            "int64\n",
            "<class 'numpy.ndarray'>\n"
          ]
        }
      ],
      "source": [
        "# 샘플 데이터 생성\n",
        "arr = np.array([1, 3, 5, 7, 9])\n",
        "print(arr)\n",
        "print(arr.dtype)\n",
        "print(type(arr))"
      ]
    },
    {
      "cell_type": "markdown",
      "metadata": {
        "id": "Mx3PzyU4DY2Z"
      },
      "source": [
        "`torch.from_numpy()`는 `torch.as_tensor()`와 동일\n"
      ]
    },
    {
      "cell_type": "markdown",
      "metadata": {
        "id": "kdEwaLHtDY2Z"
      },
      "source": [
        "### `torch.from_numpy()` - sharing\n"
      ]
    },
    {
      "cell_type": "code",
      "execution_count": 4,
      "metadata": {
        "id": "vugRvbrdDY2Z",
        "colab": {
          "base_uri": "https://localhost:8080/"
        },
        "outputId": "ae688bae-80c6-41c1-aac5-7a258569e1db"
      },
      "outputs": [
        {
          "output_type": "stream",
          "name": "stdout",
          "text": [
            "tensor([1, 3, 5, 7, 9])\n",
            "torch.int64\n",
            "torch.LongTensor\n",
            "<class 'torch.Tensor'>\n"
          ]
        }
      ],
      "source": [
        "t1 = torch.from_numpy(arr)\n",
        "print(t1)  # 출력\n",
        "print(t1.dtype)  # dtype은 데이터 타입\n",
        "print(t1.type())  # type()은 텐서의 타입\n",
        "print(type(t1))  # t1 변수 자체의 타입"
      ]
    },
    {
      "cell_type": "markdown",
      "metadata": {
        "id": "7BikiuytDY2a"
      },
      "source": [
        "### `torch.as_tensor()` - sharing\n"
      ]
    },
    {
      "cell_type": "code",
      "execution_count": 5,
      "metadata": {
        "id": "w5U1J0xxDY2a",
        "colab": {
          "base_uri": "https://localhost:8080/"
        },
        "outputId": "4a0b65f6-decc-4b62-80a7-bbeb20aae77a"
      },
      "outputs": [
        {
          "output_type": "stream",
          "name": "stdout",
          "text": [
            "tensor([1, 3, 5, 7, 9])\n",
            "torch.int64\n",
            "torch.LongTensor\n",
            "<class 'torch.Tensor'>\n"
          ]
        }
      ],
      "source": [
        "t2 = torch.as_tensor(arr)\n",
        "print(t2)  # 출력\n",
        "print(t2.dtype)  # dtype은 데이터 타입\n",
        "print(t2.type())  # type()은 텐서의 타입\n",
        "print(type(t2))  # t2 변수 자체의 타입"
      ]
    },
    {
      "cell_type": "code",
      "source": [
        "arr[0]"
      ],
      "metadata": {
        "colab": {
          "base_uri": "https://localhost:8080/"
        },
        "id": "RRyIOwpP351g",
        "outputId": "2c999af0-30a5-43c4-9bae-83e84d9b11ec"
      },
      "execution_count": 6,
      "outputs": [
        {
          "output_type": "execute_result",
          "data": {
            "text/plain": [
              "1"
            ]
          },
          "metadata": {},
          "execution_count": 6
        }
      ]
    },
    {
      "cell_type": "code",
      "execution_count": 7,
      "metadata": {
        "id": "dlSgqObODY2a"
      },
      "outputs": [],
      "source": [
        "# numpy array의 0번 index를 999로 값 변환\n",
        "arr[0] = 999"
      ]
    },
    {
      "cell_type": "code",
      "execution_count": 8,
      "metadata": {
        "id": "A5hRBRkXDY2a",
        "colab": {
          "base_uri": "https://localhost:8080/"
        },
        "outputId": "3c3687bd-f2db-4c65-f47e-9defeaa5fae0"
      },
      "outputs": [
        {
          "output_type": "stream",
          "name": "stdout",
          "text": [
            "t1: tensor([999,   3,   5,   7,   9])\n",
            "t2: tensor([999,   3,   5,   7,   9])\n"
          ]
        }
      ],
      "source": [
        "# t1, t2 출력\n",
        "print(f\"t1: {t1}\")\n",
        "print(f\"t2: {t2}\")"
      ]
    },
    {
      "cell_type": "markdown",
      "metadata": {
        "id": "WoqfcydnDY2a"
      },
      "source": [
        "`torch.from_numpy()`와 `torch.as_tensor()` 로 `numpy array`의 요소를 수정하게 되면 해당 numpy array로부터 **생성된 tensor의 요소의 값이 변하는 것**을 확인할 수 있습니다.\n",
        "\n",
        "이러한 현상은 `torch.from_numpy()`와 `torch.as_tensor()` 모두 **sharing** 하기 때문입니다.\n"
      ]
    },
    {
      "cell_type": "markdown",
      "metadata": {
        "id": "MOn-qpraDY2a"
      },
      "source": [
        "### `torch.tensor()` - copying\n"
      ]
    },
    {
      "cell_type": "code",
      "execution_count": 9,
      "metadata": {
        "id": "lg-DvQLDDY2a",
        "colab": {
          "base_uri": "https://localhost:8080/"
        },
        "outputId": "94632b96-5480-4986-9b1a-14a3c8dca2d0"
      },
      "outputs": [
        {
          "output_type": "stream",
          "name": "stdout",
          "text": [
            "[1 3 5 7 9]\n",
            "int64\n",
            "<class 'numpy.ndarray'>\n"
          ]
        }
      ],
      "source": [
        "# 샘플 데이터 초기화\n",
        "arr = np.array([1, 3, 5, 7, 9])\n",
        "print(arr)\n",
        "print(arr.dtype)\n",
        "print(type(arr))"
      ]
    },
    {
      "cell_type": "code",
      "execution_count": 14,
      "metadata": {
        "id": "4l6SHv1WDY2a",
        "colab": {
          "base_uri": "https://localhost:8080/"
        },
        "outputId": "c4985a6b-7eea-4c3a-919c-3de439c8b5cc"
      },
      "outputs": [
        {
          "output_type": "stream",
          "name": "stdout",
          "text": [
            "tensor([999,   3,   5,   7,   9])\n",
            "torch.int64\n",
            "torch.LongTensor\n",
            "<class 'torch.Tensor'>\n"
          ]
        }
      ],
      "source": [
        "t3 = torch.tensor(arr)\n",
        "print(t3)  # 출력\n",
        "print(t3.dtype)  # dtype은 데이터 타입\n",
        "print(t3.type())  # type()은 텐서의 타입\n",
        "print(type(t3))  # t3 변수 자체의 타입"
      ]
    },
    {
      "cell_type": "code",
      "execution_count": 11,
      "metadata": {
        "id": "Io6BvTHuDY2a"
      },
      "outputs": [],
      "source": [
        "# numpy array의 0번 index를 999로 값 변환\n",
        "arr[0] = 999"
      ]
    },
    {
      "cell_type": "code",
      "execution_count": 13,
      "metadata": {
        "id": "Pe4R2Bg4DY2b",
        "colab": {
          "base_uri": "https://localhost:8080/"
        },
        "outputId": "2ebcbfe1-bcd4-426d-e15a-ecb3eba28774"
      },
      "outputs": [
        {
          "output_type": "stream",
          "name": "stdout",
          "text": [
            "t3: tensor([1, 3, 5, 7, 9])\n"
          ]
        }
      ],
      "source": [
        "# t3 출력\n",
        "print(f\"t3: {t3}\")"
      ]
    },
    {
      "cell_type": "markdown",
      "metadata": {
        "id": "h_fp-anUDY2b"
      },
      "source": [
        "`torch.tensor()`로 numpy array를 변환시 **sharing**이 아닌 **copying**하기 때문에 원본 **numpy array의 요소가 변하더라고 tensor에 영향을 끼치지 않음을 확인**할 수 있습니다.\n"
      ]
    },
    {
      "cell_type": "markdown",
      "metadata": {
        "id": "QuwFLUfSDY2b"
      },
      "source": [
        "## 텐서의 데이터 타입\n",
        "int 뒤의 숫자가 클수록 더 넓은 범위의 숫자 표현 가능.\n",
        "(ex. 64bit를 활용해 1개의 숫자 표현.)\n",
        "\n",
        "- [pytorch 도큐먼트 링크](https://pytorch.org/docs/stable/tensors.html)\n"
      ]
    },
    {
      "cell_type": "markdown",
      "metadata": {
        "id": "jC835_ULDY2b"
      },
      "source": [
        "<table style=\"display: inline-block\">\n",
        "<tr><th>TYPE</th><th>NAME</th><th>EQUIVALENT</th><th>TENSOR TYPE</th></tr>\n",
        "<tr><td>32-bit integer (signed)</td><td>torch.int32</td><td>torch.int</td><td>IntTensor</td></tr>\n",
        "<tr><td>64-bit integer (signed)</td><td>torch.int64</td><td>torch.long</td><td>LongTensor</td></tr>\n",
        "<tr><td>16-bit integer (signed)</td><td>torch.int16</td><td>torch.short</td><td>ShortTensor</td></tr>\n",
        "<tr><td>32-bit floating point</td><td>torch.float32</td><td>torch.float</td><td>FloatTensor</td></tr>\n",
        "<tr><td>64-bit floating point</td><td>torch.float64</td><td>torch.double</td><td>DoubleTensor</td></tr>\n",
        "<tr><td>16-bit floating point</td><td>torch.float16</td><td>torch.half</td><td>HalfTensor</td></tr>\n",
        "<tr><td>8-bit integer (signed)</td><td>torch.int8</td><td></td><td>CharTensor</td></tr>\n",
        "<tr><td>8-bit integer (unsigned)</td><td>torch.uint8</td><td></td><td>ByteTensor</td></tr></table>\n"
      ]
    }
  ],
  "metadata": {
    "kernelspec": {
      "display_name": "Python 3 (ipykernel)",
      "language": "python",
      "name": "python3"
    },
    "language_info": {
      "codemirror_mode": {
        "name": "ipython",
        "version": 3
      },
      "file_extension": ".py",
      "mimetype": "text/x-python",
      "name": "python",
      "nbconvert_exporter": "python",
      "pygments_lexer": "ipython3",
      "version": "3.9.18"
    },
    "colab": {
      "provenance": [],
      "include_colab_link": true
    }
  },
  "nbformat": 4,
  "nbformat_minor": 0
}