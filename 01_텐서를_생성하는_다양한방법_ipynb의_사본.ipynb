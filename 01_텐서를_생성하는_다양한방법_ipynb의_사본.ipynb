{
  "cells": [
    {
      "cell_type": "markdown",
      "metadata": {
        "id": "view-in-github",
        "colab_type": "text"
      },
      "source": [
        "<a href=\"https://colab.research.google.com/github/nayoonchoi00/PyTorch-DL/blob/main/01_%ED%85%90%EC%84%9C%EB%A5%BC_%EC%83%9D%EC%84%B1%ED%95%98%EB%8A%94_%EB%8B%A4%EC%96%91%ED%95%9C%EB%B0%A9%EB%B2%95_ipynb%EC%9D%98_%EC%82%AC%EB%B3%B8.ipynb\" target=\"_parent\"><img src=\"https://colab.research.google.com/assets/colab-badge.svg\" alt=\"Open In Colab\"/></a>"
      ]
    },
    {
      "cell_type": "markdown",
      "metadata": {
        "id": "CxFoX5CT-_av"
      },
      "source": [
        "## torch import\n"
      ]
    },
    {
      "cell_type": "code",
      "execution_count": 1,
      "metadata": {
        "id": "sFlrDeWl-_ay",
        "colab": {
          "base_uri": "https://localhost:8080/"
        },
        "outputId": "bf9c929c-e266-46f6-9f2a-088f0dbf91be"
      },
      "outputs": [
        {
          "output_type": "stream",
          "name": "stdout",
          "text": [
            "2.4.0+cu121\n"
          ]
        }
      ],
      "source": [
        "import torch\n",
        "import numpy as np\n",
        "\n",
        "# version 체크\n",
        "print(torch.__version__)"
      ]
    },
    {
      "cell_type": "markdown",
      "metadata": {
        "id": "9Nw43qq9-_az"
      },
      "source": [
        "## 기본 텐서 생성\n"
      ]
    },
    {
      "cell_type": "code",
      "execution_count": 2,
      "metadata": {
        "id": "h_CwhD1N-_az",
        "colab": {
          "base_uri": "https://localhost:8080/"
        },
        "outputId": "82184af4-7236-47d4-e593-f63bd56ae2ae"
      },
      "outputs": [
        {
          "output_type": "stream",
          "name": "stdout",
          "text": [
            "[0 1 2 3 4]\n"
          ]
        }
      ],
      "source": [
        "# 샘플 numpy array 생성\n",
        "arr = np.arange(0, 5)\n",
        "print(arr)"
      ]
    },
    {
      "cell_type": "markdown",
      "metadata": {
        "id": "xRhuWdoG-_a0"
      },
      "source": [
        "### `torch.from_numpy()`\n",
        "\n",
        "- numpy array 로부터 생성. **sharing** 하므로 numpy array의 요소가 변경되면 tensor로 같이 변경됩니다\n"
      ]
    },
    {
      "cell_type": "code",
      "execution_count": 3,
      "metadata": {
        "id": "nGZd1h2P-_a0",
        "colab": {
          "base_uri": "https://localhost:8080/"
        },
        "outputId": "a69737c2-ffd5-45f3-a778-688e125d3874"
      },
      "outputs": [
        {
          "output_type": "stream",
          "name": "stdout",
          "text": [
            "tensor([0, 1, 2, 3, 4])\n",
            "torch.int64\n",
            "torch.LongTensor\n",
            "<class 'torch.Tensor'>\n"
          ]
        }
      ],
      "source": [
        "t1 = torch.from_numpy(arr)\n",
        "print(t1)  # 출력\n",
        "print(t1.dtype)  # dtype은 데이터 타입\n",
        "print(t1.type())  # type()은 텐서의 타입\n",
        "print(type(t1))  # t1 변수 자체의 타입"
      ]
    },
    {
      "cell_type": "markdown",
      "metadata": {
        "id": "HVgBxk4s-_a0"
      },
      "source": [
        "### `torch.as_tensor()`\n",
        "\n",
        "- numpy array 로부터 생성. **sharing** 하므로 numpy array의 요소가 변경되면 tensor로 같이 변경됩니다\n"
      ]
    },
    {
      "cell_type": "code",
      "execution_count": 4,
      "metadata": {
        "id": "RQiHqBh0-_a0",
        "colab": {
          "base_uri": "https://localhost:8080/"
        },
        "outputId": "ad606365-e424-49f6-f2d6-a6e7f8237d2d"
      },
      "outputs": [
        {
          "output_type": "stream",
          "name": "stdout",
          "text": [
            "tensor([0, 1, 2, 3, 4])\n",
            "torch.int64\n",
            "torch.LongTensor\n",
            "<class 'torch.Tensor'>\n"
          ]
        }
      ],
      "source": [
        "t2 = torch.as_tensor(arr)\n",
        "print(t2)  # 출력\n",
        "print(t2.dtype)  # dtype은 데이터 타입\n",
        "print(t2.type())  # type()은 텐서의 타입\n",
        "print(type(t2))  # t2 변수 자체의 타입"
      ]
    },
    {
      "cell_type": "markdown",
      "metadata": {
        "id": "P-PwzHrp-_a0"
      },
      "source": [
        "### `torch.tensor()`\n",
        "\n",
        "- numpy array 로부터 생성. **copying** 하므로 numpy array의 요소가 변경에 영향을 받지 않습니다.\n"
      ]
    },
    {
      "cell_type": "code",
      "execution_count": 5,
      "metadata": {
        "id": "yV54vJDs-_a1",
        "colab": {
          "base_uri": "https://localhost:8080/"
        },
        "outputId": "da03ac70-7454-4257-8998-f2f416959e11"
      },
      "outputs": [
        {
          "output_type": "stream",
          "name": "stdout",
          "text": [
            "tensor([0, 1, 2, 3, 4])\n",
            "torch.int64\n",
            "torch.LongTensor\n",
            "<class 'torch.Tensor'>\n"
          ]
        }
      ],
      "source": [
        "t3 = torch.tensor(arr)\n",
        "print(t3)  # 출력\n",
        "print(t3.dtype)  # dtype은 데이터 타입\n",
        "print(t3.type())  # type()은 텐서의 타입\n",
        "print(type(t3))  # t3 변수 자체의 타입"
      ]
    },
    {
      "cell_type": "markdown",
      "metadata": {
        "id": "mHvdoe6J-_a1"
      },
      "source": [
        "## Zeros, Ones\n"
      ]
    },
    {
      "cell_type": "markdown",
      "metadata": {
        "id": "BBBl94rl-_a1"
      },
      "source": [
        "### `torch.zeros()`\n",
        "\n",
        "- 0으로 채워진 tensor를 생성합니다.\n",
        "- dtype을 직접 지정하는 것이 바람직합니다.\n"
      ]
    },
    {
      "cell_type": "code",
      "execution_count": 6,
      "metadata": {
        "id": "ZQW9z5-j-_a1",
        "colab": {
          "base_uri": "https://localhost:8080/"
        },
        "outputId": "4dcb392a-2638-4770-c512-d86a8ce4e324"
      },
      "outputs": [
        {
          "output_type": "stream",
          "name": "stdout",
          "text": [
            "tensor([[0, 0, 0, 0, 0],\n",
            "        [0, 0, 0, 0, 0],\n",
            "        [0, 0, 0, 0, 0]], dtype=torch.int32)\n",
            "torch.int32\n",
            "torch.IntTensor\n"
          ]
        }
      ],
      "source": [
        "zeros = torch.zeros(3, 5, dtype=torch.int32)\n",
        "print(zeros)\n",
        "print(zeros.dtype)\n",
        "print(zeros.type())"
      ]
    },
    {
      "cell_type": "markdown",
      "metadata": {
        "id": "itjxNIso-_a1"
      },
      "source": [
        "### `torch.ones()`\n",
        "\n",
        "- 1로 채워진 tensor를 생성합니다.\n",
        "- 역시 dtype을 직접 지정하는 것이 바람직합니다.\n"
      ]
    },
    {
      "cell_type": "code",
      "execution_count": 7,
      "metadata": {
        "id": "BJhhuY62-_a2",
        "colab": {
          "base_uri": "https://localhost:8080/"
        },
        "outputId": "4336c0df-bce3-4a4c-d5c3-841b422a8251"
      },
      "outputs": [
        {
          "output_type": "stream",
          "name": "stdout",
          "text": [
            "tensor([[1, 1, 1],\n",
            "        [1, 1, 1]])\n",
            "torch.int64\n",
            "torch.LongTensor\n"
          ]
        }
      ],
      "source": [
        "ones = torch.ones(2, 3, dtype=torch.int64)\n",
        "print(ones)\n",
        "print(ones.dtype)\n",
        "print(ones.type())"
      ]
    },
    {
      "cell_type": "markdown",
      "metadata": {
        "id": "OsTHIuWk-_a2"
      },
      "source": [
        "### Tensors from ranges\n",
        "\n",
        "<a href='https://pytorch.org/docs/stable/torch.html#torch.arange'><strong><tt>torch.arange(start,end,step)</tt></strong></a><br>\n",
        "<a href='https://pytorch.org/docs/stable/torch.html#torch.linspace'><strong><tt>torch.linspace(start,end,steps)</tt></strong></a><br>\n",
        "Note that with <tt>.arange()</tt>, <tt>end</tt> is exclusive, while with <tt>linspace()</tt>, <tt>end</tt> is inclusive.\n"
      ]
    },
    {
      "cell_type": "markdown",
      "metadata": {
        "id": "6WSBEkYm-_a2"
      },
      "source": [
        "## 범위로 생성\n"
      ]
    },
    {
      "cell_type": "markdown",
      "metadata": {
        "id": "cg9dBMun-_a2"
      },
      "source": [
        "### `torch.arange(start, end, step)`\n",
        "\n",
        "- 지정된 범위로 tensor를 생성합니다.\n"
      ]
    },
    {
      "cell_type": "code",
      "execution_count": 8,
      "metadata": {
        "id": "bJfJ-mTa-_a2",
        "colab": {
          "base_uri": "https://localhost:8080/"
        },
        "outputId": "1916f3b0-c45b-46ca-c4c4-4875269f97ad"
      },
      "outputs": [
        {
          "output_type": "stream",
          "name": "stdout",
          "text": [
            "tensor([0, 1, 2, 3, 4])\n",
            "tensor([2, 3, 4, 5])\n",
            "tensor([1, 3, 5, 7, 9])\n"
          ]
        }
      ],
      "source": [
        "# end만 지정\n",
        "a = torch.arange(5)\n",
        "print(a)\n",
        "# start, end 지정\n",
        "a = torch.arange(2, 6)\n",
        "print(a)\n",
        "# start, end, step 모두 지정\n",
        "a = torch.arange(1, 10, 2)\n",
        "print(a)"
      ]
    },
    {
      "cell_type": "markdown",
      "metadata": {
        "id": "q-vppUHT-_a2"
      },
      "source": [
        "### torch.linspace(start, end, steps)\n",
        "\n",
        "- start부터 end까지 동일 간격으로 생성합니다. steps 지정시 steps 갯수만큼 생성합니다. (미지정시 100개 생성)\n"
      ]
    },
    {
      "cell_type": "code",
      "execution_count": 11,
      "metadata": {
        "id": "V7pbvDIu-_a2",
        "colab": {
          "base_uri": "https://localhost:8080/"
        },
        "outputId": "5e53413c-bb4e-49d4-fea9-6fbb79276af8"
      },
      "outputs": [
        {
          "output_type": "stream",
          "name": "stdout",
          "text": [
            "tensor([ 2.0000,  2.8889,  3.7778,  4.6667,  5.5556,  6.4444,  7.3333,  8.2222,\n",
            "         9.1111, 10.0000])\n",
            "10\n",
            "============================================================\n",
            "tensor([ 2.,  4.,  6.,  8., 10.])\n"
          ]
        }
      ],
      "source": [
        "# start, stop 지정 ()\n",
        "b = torch.linspace(2, 10,10)\n",
        "#2~10 사이 동일한 간격으로.\n",
        "print(b)\n",
        "print(b.size(0))\n",
        "print(\"===\" * 20)\n",
        "# start, stop, step 모두 지정\n",
        "b = torch.linspace(2, 10, 5)\n",
        "print(b)"
      ]
    },
    {
      "cell_type": "markdown",
      "metadata": {
        "id": "6cImxedr-_a2"
      },
      "source": [
        "## tensor의 타입 변경: type()\n",
        "\n",
        "- tensor의 dtype을 변경하기 위해서는 type() 함수를 사용합니다. type()함수의 인자로 변경할 tensor의 타입을 지정합니다.\n"
      ]
    },
    {
      "cell_type": "code",
      "execution_count": 12,
      "metadata": {
        "id": "id3w99Vt-_a2",
        "colab": {
          "base_uri": "https://localhost:8080/"
        },
        "outputId": "fc1e2372-af89-40fd-f7c0-9b7dc47d979a"
      },
      "outputs": [
        {
          "output_type": "stream",
          "name": "stdout",
          "text": [
            "tensor([0, 1, 2, 3, 4, 5, 6, 7, 8, 9], dtype=torch.int32)\n",
            "torch.IntTensor\n",
            "==============================\n",
            "tensor([0, 1, 2, 3, 4, 5, 6, 7, 8, 9])\n",
            "torch.LongTensor\n"
          ]
        }
      ],
      "source": [
        "aa = torch.arange(10, dtype=torch.int32)\n",
        "print(aa)\n",
        "print(aa.type())\n",
        "\n",
        "print(\"===\" * 10)\n",
        "# tensor의 타입 변경\n",
        "bb = aa.type(torch.int64)\n",
        "print(bb)\n",
        "print(bb.type())"
      ]
    },
    {
      "cell_type": "markdown",
      "metadata": {
        "id": "DUjIWBrd-_a3"
      },
      "source": [
        "## 랜덤 tensor 생성\n",
        "\n",
        "- `torch.rand()`: [0, 1) 분포 안에서 랜덤한 tensor를 생성합니다.\n",
        "- `torch.randn()`: **standard normal** 분포 안에서 랜덤한 tensor를 생성합니다.\n",
        "- `torch.randint()`: 정수로 채워진 랜덤한 tensor를 생성합니다.\n"
      ]
    },
    {
      "cell_type": "code",
      "execution_count": 13,
      "metadata": {
        "id": "PFZqi7l8-_a3",
        "colab": {
          "base_uri": "https://localhost:8080/"
        },
        "outputId": "4691f61c-3433-4f7a-ae7a-7a32c64309c7"
      },
      "outputs": [
        {
          "output_type": "stream",
          "name": "stdout",
          "text": [
            "tensor([[0.2466, 0.1656, 0.2105],\n",
            "        [0.6935, 0.4442, 0.7428]])\n"
          ]
        }
      ],
      "source": [
        "# random 생성 범위: 0 ~ 1\n",
        "rd1 = torch.rand(2, 3)\n",
        "print(rd1)"
      ]
    },
    {
      "cell_type": "code",
      "execution_count": 14,
      "metadata": {
        "id": "3A7W8d3y-_a3",
        "colab": {
          "base_uri": "https://localhost:8080/"
        },
        "outputId": "81dd158d-f484-44c2-b452-53d93120ed83"
      },
      "outputs": [
        {
          "output_type": "stream",
          "name": "stdout",
          "text": [
            "tensor([[-2.4134, -0.2357,  0.5262],\n",
            "        [-0.0972, -0.2254, -0.3718]])\n"
          ]
        }
      ],
      "source": [
        "# random 생성 범위: standard normal\n",
        "rd2 = torch.randn(2, 3)\n",
        "print(rd2)"
      ]
    },
    {
      "cell_type": "code",
      "execution_count": 18,
      "metadata": {
        "id": "DS5e_8lf-_a3",
        "colab": {
          "base_uri": "https://localhost:8080/"
        },
        "outputId": "7dff1905-5345-45d2-e163-476fddf1560d"
      },
      "outputs": [
        {
          "output_type": "stream",
          "name": "stdout",
          "text": [
            "tensor([[8, 2, 2],\n",
            "        [1, 9, 3]])\n"
          ]
        }
      ],
      "source": [
        "# randint 생성시 low, high, size를 지정한 경우\n",
        "rd3 = torch.randint(low=1, high=10, size=(2, 3))\n",
        "print(rd3)"
      ]
    },
    {
      "cell_type": "markdown",
      "metadata": {
        "id": "mjPJfa-g-_a3"
      },
      "source": [
        "`torch.manual_seed()`: 난수 생성시 시드의 고정\n"
      ]
    },
    {
      "cell_type": "code",
      "execution_count": 19,
      "metadata": {
        "id": "JBFcOFjT-_a3",
        "colab": {
          "base_uri": "https://localhost:8080/"
        },
        "outputId": "3869c468-4d17-4a8a-fee6-a72fc0883150"
      },
      "outputs": [
        {
          "output_type": "stream",
          "name": "stdout",
          "text": [
            "tensor([[99, 19, 57],\n",
            "        [70, 53, 70]])\n"
          ]
        }
      ],
      "source": [
        "# manual_seed를 고정시 고정한 cell의 난수 생성은 매번 동일한 값을 생성\n",
        "torch.manual_seed(0)\n",
        "#seed 안에 들어가는 값은 큰 상관은 없음.\n",
        "rd4 = torch.randint(low=1, high=100, size=(2, 3))\n",
        "print(rd4)"
      ]
    },
    {
      "cell_type": "markdown",
      "metadata": {
        "id": "EaLw47Ha-_a3"
      },
      "source": [
        "## like로 tensor 생성\n",
        "\n",
        "- 텐서 생성 함수에서 `_like()`가 뒤에 붙는 함수를 종종 볼 수 있습니다.\n",
        "- `_like()`가 붙은 이름의 함수는 `_like()` 안에 넣어주는 tensor의 shape와 동일한 tensor를 생성합니다.\n",
        "\n",
        "**\\_like() 함수 목록**\n",
        "\n",
        "- `torch.rand_like()`\n",
        "- `torch.randn_like()`\n",
        "- `torch.randint_like()`\n",
        "- `torch.ones_like()`\n",
        "- `torch.zeros_like()`\n"
      ]
    },
    {
      "cell_type": "code",
      "execution_count": 20,
      "metadata": {
        "id": "Vji2A-xQ-_a3",
        "colab": {
          "base_uri": "https://localhost:8080/"
        },
        "outputId": "6634eeb1-a828-4920-ae1f-a9a52ba0f868"
      },
      "outputs": [
        {
          "output_type": "stream",
          "name": "stdout",
          "text": [
            "tensor([[ 1.,  3.,  5.],\n",
            "        [ 7.,  9., 11.]])\n",
            "torch.FloatTensor\n"
          ]
        }
      ],
      "source": [
        "x = torch.tensor([[1, 3, 5], [7, 9, 11]], dtype=torch.float32)\n",
        "print(x)\n",
        "print(x.type())"
      ]
    },
    {
      "cell_type": "code",
      "execution_count": 21,
      "metadata": {
        "id": "P1tmLDlE-_a3",
        "colab": {
          "base_uri": "https://localhost:8080/"
        },
        "outputId": "3e63ae27-e422-4700-806f-0468efe72b67"
      },
      "outputs": [
        {
          "output_type": "stream",
          "name": "stdout",
          "text": [
            "tensor([[0.4901, 0.8964, 0.4556],\n",
            "        [0.6323, 0.3489, 0.4017]])\n",
            "torch.FloatTensor\n"
          ]
        }
      ],
      "source": [
        "# [0, 1)\n",
        "like1 = torch.rand_like(x)\n",
        "print(like1)\n",
        "print(like1.type())"
      ]
    },
    {
      "cell_type": "code",
      "execution_count": 22,
      "metadata": {
        "id": "A2_k77wg-_a3",
        "colab": {
          "base_uri": "https://localhost:8080/"
        },
        "outputId": "07185f51-ea44-4896-ccbe-ebc1306ddf86"
      },
      "outputs": [
        {
          "output_type": "stream",
          "name": "stdout",
          "text": [
            "tensor([[ 0.4033,  0.8380, -0.7193],\n",
            "        [-0.4033, -0.5966,  0.1820]])\n",
            "torch.FloatTensor\n"
          ]
        }
      ],
      "source": [
        "# standard normal\n",
        "like2 = torch.randn_like(x)\n",
        "print(like2)\n",
        "print(like2.type())"
      ]
    },
    {
      "cell_type": "code",
      "execution_count": 23,
      "metadata": {
        "id": "KLMfqSsh-_a4",
        "colab": {
          "base_uri": "https://localhost:8080/"
        },
        "outputId": "fac90817-74b8-4fab-fa97-9cb89581fad4"
      },
      "outputs": [
        {
          "output_type": "stream",
          "name": "stdout",
          "text": [
            "tensor([[90., 24., 98.],\n",
            "        [99., 43., 10.]])\n",
            "torch.FloatTensor\n"
          ]
        }
      ],
      "source": [
        "# int range\n",
        "like3 = torch.randint_like(x, low=1, high=100)\n",
        "print(like3)\n",
        "print(like3.type())"
      ]
    },
    {
      "cell_type": "code",
      "execution_count": 24,
      "metadata": {
        "id": "oztnLoRI-_a4",
        "colab": {
          "base_uri": "https://localhost:8080/"
        },
        "outputId": "38402a24-97ee-419c-88ab-246916ef3e6f"
      },
      "outputs": [
        {
          "output_type": "stream",
          "name": "stdout",
          "text": [
            "tensor([[0., 0., 0.],\n",
            "        [0., 0., 0.]])\n",
            "torch.FloatTensor\n"
          ]
        }
      ],
      "source": [
        "# zeros\n",
        "like4 = torch.zeros_like(x)\n",
        "print(like4)\n",
        "print(like4.type())"
      ]
    },
    {
      "cell_type": "code",
      "execution_count": 25,
      "metadata": {
        "id": "6LDR-w6s-_a4",
        "colab": {
          "base_uri": "https://localhost:8080/"
        },
        "outputId": "4a10521b-2795-4a88-f69d-d59f33375376"
      },
      "outputs": [
        {
          "output_type": "stream",
          "name": "stdout",
          "text": [
            "tensor([[1., 1., 1.],\n",
            "        [1., 1., 1.]])\n",
            "torch.FloatTensor\n"
          ]
        }
      ],
      "source": [
        "# ones\n",
        "like5 = torch.ones_like(x)\n",
        "print(like5)\n",
        "print(like5.type())"
      ]
    },
    {
      "cell_type": "markdown",
      "metadata": {
        "id": "qPG-pU4K-_a4"
      },
      "source": [
        "## tensor의 shape 확인 및 변경\n"
      ]
    },
    {
      "cell_type": "code",
      "execution_count": 26,
      "metadata": {
        "id": "yJMuexrj-_a4",
        "colab": {
          "base_uri": "https://localhost:8080/"
        },
        "outputId": "7e4a5747-9b0f-433b-c71e-c031e52585f1"
      },
      "outputs": [
        {
          "output_type": "stream",
          "name": "stdout",
          "text": [
            "tensor([[ 1.,  3.,  5.],\n",
            "        [ 7.,  9., 11.]])\n"
          ]
        }
      ],
      "source": [
        "x = torch.tensor([[1, 3, 5], [7, 9, 11]], dtype=torch.float32)\n",
        "print(x)"
      ]
    },
    {
      "cell_type": "markdown",
      "metadata": {
        "id": "8QK27xB4-_a4"
      },
      "source": [
        "### shape 확인\n"
      ]
    },
    {
      "cell_type": "code",
      "execution_count": 27,
      "metadata": {
        "id": "m4k083eV-_a-",
        "colab": {
          "base_uri": "https://localhost:8080/"
        },
        "outputId": "88a77a2c-fba3-4618-d339-52ef8c7dd4f8"
      },
      "outputs": [
        {
          "output_type": "stream",
          "name": "stdout",
          "text": [
            "torch.Size([2, 3])\n",
            "2\n",
            "3\n"
          ]
        }
      ],
      "source": [
        "print(x.shape)\n",
        "print(x.shape[0])\n",
        "print(x.shape[1])"
      ]
    },
    {
      "cell_type": "code",
      "execution_count": 28,
      "metadata": {
        "id": "0lB9J770-_a_",
        "colab": {
          "base_uri": "https://localhost:8080/"
        },
        "outputId": "55ae037d-b060-421e-f329-44f9266a703b"
      },
      "outputs": [
        {
          "output_type": "stream",
          "name": "stdout",
          "text": [
            "torch.Size([2, 3])\n",
            "2\n",
            "3\n"
          ]
        }
      ],
      "source": [
        "print(x.size())\n",
        "print(x.size(0))\n",
        "print(x.size(1))"
      ]
    },
    {
      "cell_type": "markdown",
      "metadata": {
        "id": "ea1sZ7d1-_a_"
      },
      "source": [
        "### shape 변경\n"
      ]
    },
    {
      "cell_type": "markdown",
      "metadata": {
        "id": "q0uL1wkF-_a_"
      },
      "source": [
        "`view()`와 `reshape()` 모두 사용가능합니다.\n"
      ]
    },
    {
      "cell_type": "code",
      "execution_count": 29,
      "metadata": {
        "id": "4deN3_ND-_a_",
        "colab": {
          "base_uri": "https://localhost:8080/"
        },
        "outputId": "02a3dd0d-3d1d-4408-9e42-061cd63553ee"
      },
      "outputs": [
        {
          "output_type": "stream",
          "name": "stdout",
          "text": [
            "tensor([[ 1.,  3.,  5.],\n",
            "        [ 7.,  9., 11.]])\n",
            "torch.Size([2, 3])\n"
          ]
        }
      ],
      "source": [
        "x = torch.tensor([[1, 3, 5], [7, 9, 11]], dtype=torch.float32)\n",
        "print(x)\n",
        "print(x.shape)"
      ]
    },
    {
      "cell_type": "code",
      "execution_count": 30,
      "metadata": {
        "id": "7YyoT37X-_a_",
        "colab": {
          "base_uri": "https://localhost:8080/"
        },
        "outputId": "3a372ca1-ca9e-4622-b81c-501c6d50d145"
      },
      "outputs": [
        {
          "output_type": "stream",
          "name": "stdout",
          "text": [
            "tensor([[ 1.,  3.,  5.],\n",
            "        [ 7.,  9., 11.]])\n",
            "tensor([[ 1.,  3.],\n",
            "        [ 5.,  7.],\n",
            "        [ 9., 11.]])\n"
          ]
        }
      ],
      "source": [
        "print(x)\n",
        "# view()로 shape 변경\n",
        "print(x.view(3, 2))"
      ]
    },
    {
      "cell_type": "code",
      "source": [
        "x.size()"
      ],
      "metadata": {
        "colab": {
          "base_uri": "https://localhost:8080/"
        },
        "id": "kNhjd4DaCYaW",
        "outputId": "47d89ed1-f66f-42e8-8646-c4d507d48a24"
      },
      "execution_count": 31,
      "outputs": [
        {
          "output_type": "execute_result",
          "data": {
            "text/plain": [
              "torch.Size([2, 3])"
            ]
          },
          "metadata": {},
          "execution_count": 31
        }
      ]
    },
    {
      "cell_type": "code",
      "execution_count": 32,
      "metadata": {
        "id": "vi8iBSRR-_a_",
        "colab": {
          "base_uri": "https://localhost:8080/"
        },
        "outputId": "09855210-9e25-4b0c-88ff-54574d3e044e"
      },
      "outputs": [
        {
          "output_type": "execute_result",
          "data": {
            "text/plain": [
              "tensor([[ 1.],\n",
              "        [ 3.],\n",
              "        [ 5.],\n",
              "        [ 7.],\n",
              "        [ 9.],\n",
              "        [11.]])"
            ]
          },
          "metadata": {},
          "execution_count": 32
        }
      ],
      "source": [
        "# view\n",
        "#마이너스= 와일드카드. 뒤에는 1로 고정하고 앞에 있는 마이너스 값에 알아서 넣어라~\n",
        "#단, 나누어 떨어져야 함.\n",
        "x.view(-1, 1)"
      ]
    },
    {
      "cell_type": "code",
      "source": [
        "x.view(-1,1).size()"
      ],
      "metadata": {
        "colab": {
          "base_uri": "https://localhost:8080/"
        },
        "id": "ULHHLrg-CznB",
        "outputId": "a146602a-fabf-4cc4-dded-91841ad62682"
      },
      "execution_count": 34,
      "outputs": [
        {
          "output_type": "execute_result",
          "data": {
            "text/plain": [
              "torch.Size([6, 1])"
            ]
          },
          "metadata": {},
          "execution_count": 34
        }
      ]
    },
    {
      "cell_type": "code",
      "execution_count": 35,
      "metadata": {
        "id": "kpRv4arL-_a_",
        "colab": {
          "base_uri": "https://localhost:8080/"
        },
        "outputId": "555cd2a8-6e1a-48ab-f459-f6bfdc3da022"
      },
      "outputs": [
        {
          "output_type": "execute_result",
          "data": {
            "text/plain": [
              "tensor([[ 1.],\n",
              "        [ 3.],\n",
              "        [ 5.],\n",
              "        [ 7.],\n",
              "        [ 9.],\n",
              "        [11.]])"
            ]
          },
          "metadata": {},
          "execution_count": 35
        }
      ],
      "source": [
        "# reshape\n",
        "x.reshape(-1, 1)"
      ]
    },
    {
      "cell_type": "code",
      "execution_count": 36,
      "metadata": {
        "id": "p6nwr0PY-_bA",
        "colab": {
          "base_uri": "https://localhost:8080/"
        },
        "outputId": "7726fa56-7b70-48e6-bac0-00c16e3828b4"
      },
      "outputs": [
        {
          "output_type": "execute_result",
          "data": {
            "text/plain": [
              "tensor([[ 1.,  3.],\n",
              "        [ 5.,  7.],\n",
              "        [ 9., 11.]])"
            ]
          },
          "metadata": {},
          "execution_count": 36
        }
      ],
      "source": [
        "# view\n",
        "x.view(3, -1)"
      ]
    },
    {
      "cell_type": "code",
      "execution_count": 38,
      "metadata": {
        "id": "PwwN80J7-_bA",
        "colab": {
          "base_uri": "https://localhost:8080/"
        },
        "outputId": "831ee9ce-c896-4424-889f-f5037b14f2a7"
      },
      "outputs": [
        {
          "output_type": "execute_result",
          "data": {
            "text/plain": [
              "tensor([[ 1.,  3.],\n",
              "        [ 5.,  7.],\n",
              "        [ 9., 11.]])"
            ]
          },
          "metadata": {},
          "execution_count": 38
        }
      ],
      "source": [
        "# reshape\n",
        "x.reshape(3, -1)"
      ]
    }
  ],
  "metadata": {
    "kernelspec": {
      "display_name": "Python 3 (ipykernel)",
      "language": "python",
      "name": "python3"
    },
    "language_info": {
      "codemirror_mode": {
        "name": "ipython",
        "version": 3
      },
      "file_extension": ".py",
      "mimetype": "text/x-python",
      "name": "python",
      "nbconvert_exporter": "python",
      "pygments_lexer": "ipython3",
      "version": "3.9.18"
    },
    "colab": {
      "provenance": [],
      "include_colab_link": true
    }
  },
  "nbformat": 4,
  "nbformat_minor": 0
}