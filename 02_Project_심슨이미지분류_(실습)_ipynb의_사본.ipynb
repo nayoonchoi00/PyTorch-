{
  "cells": [
    {
      "cell_type": "markdown",
      "metadata": {
        "id": "view-in-github",
        "colab_type": "text"
      },
      "source": [
        "<a href=\"https://colab.research.google.com/github/nayoonchoi00/PyTorch-DL/blob/main/02_Project_%E1%84%89%E1%85%B5%E1%86%B7%E1%84%89%E1%85%B3%E1%86%AB%E1%84%8B%E1%85%B5%E1%84%86%E1%85%B5%E1%84%8C%E1%85%B5%E1%84%87%E1%85%AE%E1%86%AB%E1%84%85%E1%85%B2_(%E1%84%89%E1%85%B5%E1%86%AF%E1%84%89%E1%85%B3%E1%86%B8)_ipynb%EC%9D%98_%EC%82%AC%EB%B3%B8.ipynb\" target=\"_parent\"><img src=\"https://colab.research.google.com/assets/colab-badge.svg\" alt=\"Open In Colab\"/></a>"
      ]
    },
    {
      "cell_type": "markdown",
      "metadata": {
        "id": "Q2eN5V51qgOC"
      },
      "source": [
        "## 환경설정\n",
        "\n",
        "1. http://braincrew2.iptime.org:8001 에 접속하여 회원가입해 주세요. (비밀번호는 단순하게 기입하시는 것을 권장 드려요. 예. 1234)\n",
        "2. `username` 에 이메일 형식의 아이디를 기입해 주세요.\n",
        "3. `password` 에 비밀번호를 기입해 주세요.\n"
      ]
    },
    {
      "cell_type": "code",
      "execution_count": 88,
      "metadata": {
        "id": "PWxtIwS2qgOH"
      },
      "outputs": [],
      "source": [
        "project = \"SIMPSON\"  # 수정하지 마세요\n",
        "username = \"22011271@sju.ac.kr\"  # 이메일아이디 (예시. abc@hello.com)\n",
        "password = \"0000\"  # 비밀번호"
      ]
    },
    {
      "cell_type": "markdown",
      "metadata": {
        "id": "A2jql_P6p9Is"
      },
      "source": [
        "아래의 코드를 순서대로 실행해 주세요.\n"
      ]
    },
    {
      "cell_type": "code",
      "execution_count": 89,
      "metadata": {
        "id": "A-8hd5bYp9It"
      },
      "outputs": [],
      "source": [
        "import os\n",
        "import requests\n",
        "\n",
        "if not os.path.exists(\"competition.py\"):\n",
        "    url = \"https://link.teddynote.com/COMPT\"\n",
        "    file_name = \"competition.py\"\n",
        "    response = requests.get(url)\n",
        "    with open(file_name, \"wb\") as file:\n",
        "        file.write(response.content)"
      ]
    },
    {
      "cell_type": "markdown",
      "metadata": {
        "id": "Wpmea1kCp9Iu"
      },
      "source": [
        "아래 코드를 실행하여 데이터를 다운로드 받습니다.\n"
      ]
    },
    {
      "cell_type": "code",
      "execution_count": 90,
      "metadata": {
        "id": "tanu-rW_p9Iv",
        "outputId": "758e7476-75a8-48a6-98a6-23b94babc984",
        "colab": {
          "base_uri": "https://localhost:8080/"
        }
      },
      "outputs": [
        {
          "output_type": "stream",
          "name": "stderr",
          "text": [
            "100%|██████████| 11.4M/11.4M [00:00<00:00, 37.4MiB/s]\n"
          ]
        }
      ],
      "source": [
        "import competition\n",
        "\n",
        "# 파일 다운로드\n",
        "# competition.download_competition_files(\"MNIST\")\n",
        "competition.download_competition_files(\n",
        "    \"https://link.teddynote.com/SIMPSON\", use_competition_url=False\n",
        ")"
      ]
    },
    {
      "cell_type": "code",
      "execution_count": 91,
      "metadata": {
        "id": "LbFFo4zNbGIS"
      },
      "outputs": [],
      "source": [
        "import pandas as pd\n",
        "import numpy as np\n",
        "import matplotlib.pyplot as plt\n",
        "import seaborn as sns\n",
        "import warnings\n",
        "import os\n",
        "\n",
        "# Data 경로 설정\n",
        "DATA_DIR = \"data\"\n",
        "\n",
        "# 경고 무시\n",
        "warnings.filterwarnings(\"ignore\")\n",
        "\n",
        "SEED = 123"
      ]
    },
    {
      "cell_type": "markdown",
      "metadata": {
        "id": "csPQIrZuqgOL"
      },
      "source": [
        "## 데이터 로드\n"
      ]
    },
    {
      "cell_type": "code",
      "execution_count": 92,
      "metadata": {
        "id": "nrCBGHyOp9I1",
        "outputId": "021942be-2fb6-4182-e916-ba70e464c694",
        "colab": {
          "base_uri": "https://localhost:8080/",
          "height": 206
        }
      },
      "outputs": [
        {
          "output_type": "execute_result",
          "data": {
            "text/plain": [
              "                       FilePath\n",
              "0  ./data/test/0027b80dd098.jpg\n",
              "1  ./data/test/005b15b22e3c.jpg\n",
              "2  ./data/test/0095881c3257.jpg\n",
              "3  ./data/test/00cea80c4825.jpg\n",
              "4  ./data/test/00d8f6050dcf.jpg"
            ],
            "text/html": [
              "\n",
              "  <div id=\"df-dd18554d-0690-462c-a114-d66fb1c77505\" class=\"colab-df-container\">\n",
              "    <div>\n",
              "<style scoped>\n",
              "    .dataframe tbody tr th:only-of-type {\n",
              "        vertical-align: middle;\n",
              "    }\n",
              "\n",
              "    .dataframe tbody tr th {\n",
              "        vertical-align: top;\n",
              "    }\n",
              "\n",
              "    .dataframe thead th {\n",
              "        text-align: right;\n",
              "    }\n",
              "</style>\n",
              "<table border=\"1\" class=\"dataframe\">\n",
              "  <thead>\n",
              "    <tr style=\"text-align: right;\">\n",
              "      <th></th>\n",
              "      <th>FilePath</th>\n",
              "    </tr>\n",
              "  </thead>\n",
              "  <tbody>\n",
              "    <tr>\n",
              "      <th>0</th>\n",
              "      <td>./data/test/0027b80dd098.jpg</td>\n",
              "    </tr>\n",
              "    <tr>\n",
              "      <th>1</th>\n",
              "      <td>./data/test/005b15b22e3c.jpg</td>\n",
              "    </tr>\n",
              "    <tr>\n",
              "      <th>2</th>\n",
              "      <td>./data/test/0095881c3257.jpg</td>\n",
              "    </tr>\n",
              "    <tr>\n",
              "      <th>3</th>\n",
              "      <td>./data/test/00cea80c4825.jpg</td>\n",
              "    </tr>\n",
              "    <tr>\n",
              "      <th>4</th>\n",
              "      <td>./data/test/00d8f6050dcf.jpg</td>\n",
              "    </tr>\n",
              "  </tbody>\n",
              "</table>\n",
              "</div>\n",
              "    <div class=\"colab-df-buttons\">\n",
              "\n",
              "  <div class=\"colab-df-container\">\n",
              "    <button class=\"colab-df-convert\" onclick=\"convertToInteractive('df-dd18554d-0690-462c-a114-d66fb1c77505')\"\n",
              "            title=\"Convert this dataframe to an interactive table.\"\n",
              "            style=\"display:none;\">\n",
              "\n",
              "  <svg xmlns=\"http://www.w3.org/2000/svg\" height=\"24px\" viewBox=\"0 -960 960 960\">\n",
              "    <path d=\"M120-120v-720h720v720H120Zm60-500h600v-160H180v160Zm220 220h160v-160H400v160Zm0 220h160v-160H400v160ZM180-400h160v-160H180v160Zm440 0h160v-160H620v160ZM180-180h160v-160H180v160Zm440 0h160v-160H620v160Z\"/>\n",
              "  </svg>\n",
              "    </button>\n",
              "\n",
              "  <style>\n",
              "    .colab-df-container {\n",
              "      display:flex;\n",
              "      gap: 12px;\n",
              "    }\n",
              "\n",
              "    .colab-df-convert {\n",
              "      background-color: #E8F0FE;\n",
              "      border: none;\n",
              "      border-radius: 50%;\n",
              "      cursor: pointer;\n",
              "      display: none;\n",
              "      fill: #1967D2;\n",
              "      height: 32px;\n",
              "      padding: 0 0 0 0;\n",
              "      width: 32px;\n",
              "    }\n",
              "\n",
              "    .colab-df-convert:hover {\n",
              "      background-color: #E2EBFA;\n",
              "      box-shadow: 0px 1px 2px rgba(60, 64, 67, 0.3), 0px 1px 3px 1px rgba(60, 64, 67, 0.15);\n",
              "      fill: #174EA6;\n",
              "    }\n",
              "\n",
              "    .colab-df-buttons div {\n",
              "      margin-bottom: 4px;\n",
              "    }\n",
              "\n",
              "    [theme=dark] .colab-df-convert {\n",
              "      background-color: #3B4455;\n",
              "      fill: #D2E3FC;\n",
              "    }\n",
              "\n",
              "    [theme=dark] .colab-df-convert:hover {\n",
              "      background-color: #434B5C;\n",
              "      box-shadow: 0px 1px 3px 1px rgba(0, 0, 0, 0.15);\n",
              "      filter: drop-shadow(0px 1px 2px rgba(0, 0, 0, 0.3));\n",
              "      fill: #FFFFFF;\n",
              "    }\n",
              "  </style>\n",
              "\n",
              "    <script>\n",
              "      const buttonEl =\n",
              "        document.querySelector('#df-dd18554d-0690-462c-a114-d66fb1c77505 button.colab-df-convert');\n",
              "      buttonEl.style.display =\n",
              "        google.colab.kernel.accessAllowed ? 'block' : 'none';\n",
              "\n",
              "      async function convertToInteractive(key) {\n",
              "        const element = document.querySelector('#df-dd18554d-0690-462c-a114-d66fb1c77505');\n",
              "        const dataTable =\n",
              "          await google.colab.kernel.invokeFunction('convertToInteractive',\n",
              "                                                    [key], {});\n",
              "        if (!dataTable) return;\n",
              "\n",
              "        const docLinkHtml = 'Like what you see? Visit the ' +\n",
              "          '<a target=\"_blank\" href=https://colab.research.google.com/notebooks/data_table.ipynb>data table notebook</a>'\n",
              "          + ' to learn more about interactive tables.';\n",
              "        element.innerHTML = '';\n",
              "        dataTable['output_type'] = 'display_data';\n",
              "        await google.colab.output.renderOutput(dataTable, element);\n",
              "        const docLink = document.createElement('div');\n",
              "        docLink.innerHTML = docLinkHtml;\n",
              "        element.appendChild(docLink);\n",
              "      }\n",
              "    </script>\n",
              "  </div>\n",
              "\n",
              "\n",
              "<div id=\"df-b25e9803-e5e8-434d-b9da-443734987d53\">\n",
              "  <button class=\"colab-df-quickchart\" onclick=\"quickchart('df-b25e9803-e5e8-434d-b9da-443734987d53')\"\n",
              "            title=\"Suggest charts\"\n",
              "            style=\"display:none;\">\n",
              "\n",
              "<svg xmlns=\"http://www.w3.org/2000/svg\" height=\"24px\"viewBox=\"0 0 24 24\"\n",
              "     width=\"24px\">\n",
              "    <g>\n",
              "        <path d=\"M19 3H5c-1.1 0-2 .9-2 2v14c0 1.1.9 2 2 2h14c1.1 0 2-.9 2-2V5c0-1.1-.9-2-2-2zM9 17H7v-7h2v7zm4 0h-2V7h2v10zm4 0h-2v-4h2v4z\"/>\n",
              "    </g>\n",
              "</svg>\n",
              "  </button>\n",
              "\n",
              "<style>\n",
              "  .colab-df-quickchart {\n",
              "      --bg-color: #E8F0FE;\n",
              "      --fill-color: #1967D2;\n",
              "      --hover-bg-color: #E2EBFA;\n",
              "      --hover-fill-color: #174EA6;\n",
              "      --disabled-fill-color: #AAA;\n",
              "      --disabled-bg-color: #DDD;\n",
              "  }\n",
              "\n",
              "  [theme=dark] .colab-df-quickchart {\n",
              "      --bg-color: #3B4455;\n",
              "      --fill-color: #D2E3FC;\n",
              "      --hover-bg-color: #434B5C;\n",
              "      --hover-fill-color: #FFFFFF;\n",
              "      --disabled-bg-color: #3B4455;\n",
              "      --disabled-fill-color: #666;\n",
              "  }\n",
              "\n",
              "  .colab-df-quickchart {\n",
              "    background-color: var(--bg-color);\n",
              "    border: none;\n",
              "    border-radius: 50%;\n",
              "    cursor: pointer;\n",
              "    display: none;\n",
              "    fill: var(--fill-color);\n",
              "    height: 32px;\n",
              "    padding: 0;\n",
              "    width: 32px;\n",
              "  }\n",
              "\n",
              "  .colab-df-quickchart:hover {\n",
              "    background-color: var(--hover-bg-color);\n",
              "    box-shadow: 0 1px 2px rgba(60, 64, 67, 0.3), 0 1px 3px 1px rgba(60, 64, 67, 0.15);\n",
              "    fill: var(--button-hover-fill-color);\n",
              "  }\n",
              "\n",
              "  .colab-df-quickchart-complete:disabled,\n",
              "  .colab-df-quickchart-complete:disabled:hover {\n",
              "    background-color: var(--disabled-bg-color);\n",
              "    fill: var(--disabled-fill-color);\n",
              "    box-shadow: none;\n",
              "  }\n",
              "\n",
              "  .colab-df-spinner {\n",
              "    border: 2px solid var(--fill-color);\n",
              "    border-color: transparent;\n",
              "    border-bottom-color: var(--fill-color);\n",
              "    animation:\n",
              "      spin 1s steps(1) infinite;\n",
              "  }\n",
              "\n",
              "  @keyframes spin {\n",
              "    0% {\n",
              "      border-color: transparent;\n",
              "      border-bottom-color: var(--fill-color);\n",
              "      border-left-color: var(--fill-color);\n",
              "    }\n",
              "    20% {\n",
              "      border-color: transparent;\n",
              "      border-left-color: var(--fill-color);\n",
              "      border-top-color: var(--fill-color);\n",
              "    }\n",
              "    30% {\n",
              "      border-color: transparent;\n",
              "      border-left-color: var(--fill-color);\n",
              "      border-top-color: var(--fill-color);\n",
              "      border-right-color: var(--fill-color);\n",
              "    }\n",
              "    40% {\n",
              "      border-color: transparent;\n",
              "      border-right-color: var(--fill-color);\n",
              "      border-top-color: var(--fill-color);\n",
              "    }\n",
              "    60% {\n",
              "      border-color: transparent;\n",
              "      border-right-color: var(--fill-color);\n",
              "    }\n",
              "    80% {\n",
              "      border-color: transparent;\n",
              "      border-right-color: var(--fill-color);\n",
              "      border-bottom-color: var(--fill-color);\n",
              "    }\n",
              "    90% {\n",
              "      border-color: transparent;\n",
              "      border-bottom-color: var(--fill-color);\n",
              "    }\n",
              "  }\n",
              "</style>\n",
              "\n",
              "  <script>\n",
              "    async function quickchart(key) {\n",
              "      const quickchartButtonEl =\n",
              "        document.querySelector('#' + key + ' button');\n",
              "      quickchartButtonEl.disabled = true;  // To prevent multiple clicks.\n",
              "      quickchartButtonEl.classList.add('colab-df-spinner');\n",
              "      try {\n",
              "        const charts = await google.colab.kernel.invokeFunction(\n",
              "            'suggestCharts', [key], {});\n",
              "      } catch (error) {\n",
              "        console.error('Error during call to suggestCharts:', error);\n",
              "      }\n",
              "      quickchartButtonEl.classList.remove('colab-df-spinner');\n",
              "      quickchartButtonEl.classList.add('colab-df-quickchart-complete');\n",
              "    }\n",
              "    (() => {\n",
              "      let quickchartButtonEl =\n",
              "        document.querySelector('#df-b25e9803-e5e8-434d-b9da-443734987d53 button');\n",
              "      quickchartButtonEl.style.display =\n",
              "        google.colab.kernel.accessAllowed ? 'block' : 'none';\n",
              "    })();\n",
              "  </script>\n",
              "</div>\n",
              "\n",
              "    </div>\n",
              "  </div>\n"
            ],
            "application/vnd.google.colaboratory.intrinsic+json": {
              "type": "dataframe",
              "variable_name": "test",
              "summary": "{\n  \"name\": \"test\",\n  \"rows\": 2000,\n  \"fields\": [\n    {\n      \"column\": \"FilePath\",\n      \"properties\": {\n        \"dtype\": \"string\",\n        \"num_unique_values\": 2000,\n        \"samples\": [\n          \"./data/test/ec6242b158d6.jpg\",\n          \"./data/test/2f01f1006220.jpg\",\n          \"./data/test/ac73cf9c5b2c.jpg\"\n        ],\n        \"semantic_type\": \"\",\n        \"description\": \"\"\n      }\n    }\n  ]\n}"
            }
          },
          "metadata": {},
          "execution_count": 92
        }
      ],
      "source": [
        "test = pd.read_csv(os.path.join(DATA_DIR, \"test.csv\"))\n",
        "test[\"FilePath\"] = test[\"FilePath\"].str.replace(\"./test_data/\", \"./data/test/\")\n",
        "test.head()"
      ]
    },
    {
      "cell_type": "code",
      "execution_count": 93,
      "metadata": {
        "id": "w3Jq7warp9I1"
      },
      "outputs": [],
      "source": [
        "from torchvision import datasets, transforms\n",
        "from torch.utils.data import Dataset, DataLoader\n",
        "from PIL import Image\n",
        "\n",
        "# 이미지 전처리 정의\n",
        "train_transform = transforms.Compose(\n",
        "    [\n",
        "        transforms.Resize((28, 28)),  # 이미지 크기를 (28, 28)로 조정\n",
        "        transforms.Grayscale(num_output_channels=1),  # 흑백 이미지로 변환\n",
        "        transforms.ToTensor(),  # 이미지를 PyTorch 텐서로 변환\n",
        "    ]\n",
        ")\n",
        "\n",
        "# ImageFolder를 사용하여 데이터셋 생성\n",
        "train_dataset = datasets.ImageFolder(root=\"./data/train\", transform=train_transform)\n",
        "\n",
        "# DataLoader 인스턴스 생성\n",
        "train_loader = DataLoader(train_dataset, batch_size=32, shuffle=True)"
      ]
    },
    {
      "cell_type": "code",
      "source": [
        "len(train_dataset.class_to_idx)\n",
        "#num_classes를 몇으로 설정해야 할까?"
      ],
      "metadata": {
        "colab": {
          "base_uri": "https://localhost:8080/"
        },
        "id": "Ja3aQRYOVFtj",
        "outputId": "5d1c15df-af68-403b-d59e-9daf19215e36"
      },
      "execution_count": 94,
      "outputs": [
        {
          "output_type": "execute_result",
          "data": {
            "text/plain": [
              "10"
            ]
          },
          "metadata": {},
          "execution_count": 94
        }
      ]
    },
    {
      "cell_type": "code",
      "execution_count": 95,
      "metadata": {
        "id": "6VPWHFV1p9I2",
        "outputId": "7a55b46a-4673-427c-a86f-82e87921e24d",
        "colab": {
          "base_uri": "https://localhost:8080/",
          "height": 332
        }
      },
      "outputs": [
        {
          "output_type": "display_data",
          "data": {
            "text/plain": [
              "<Figure size 1600x800 with 32 Axes>"
            ],
            "image/png": "[encoded data removed]"
          },
          "metadata": {}
        }
      ],
      "source": [
        "# 숫자 라벨을 클래스 이름으로 매핑하는 딕셔너리 생성\n",
        "idx_to_class = {v: k for k, v in train_dataset.class_to_idx.items()}\n",
        "\n",
        "# train_loader에서 첫 번째 배치 가져오기\n",
        "images, labels = next(iter(train_loader))\n",
        "\n",
        "# 4x8 그리드로 이미지와 라벨 시각화\n",
        "fig, axes = plt.subplots(nrows=4, ncols=8, figsize=(16, 8))\n",
        "\n",
        "# 각 subplot에 이미지와 라벨을 그리기\n",
        "for ax, img, label in zip(axes.flat, images, labels):\n",
        "    ax.imshow(img.numpy().squeeze(), cmap=\"gray\")  # 이미지를 그레이스케일로 표시\n",
        "    ax.set_title(\n",
        "        idx_to_class[label.item()], fontsize=12\n",
        "    )  # 각 이미지 위에 라벨(클래스 이름)을 타이틀로 추가\n",
        "    ax.axis(\"off\")  # 축 제거\n",
        "\n",
        "plt.tight_layout()  # subplot 간격 조정\n",
        "plt.show()"
      ]
    },
    {
      "cell_type": "code",
      "source": [
        "#데이터셋 분류(train data에서 학습용, 평가용으로 나누기)\n",
        "#from sklearn.model_selection import train_test_split\n",
        "\n",
        "#train, valid=train_test_split(train_dataset,test_size=0.2, random_state=SEED)"
      ],
      "metadata": {
        "id": "0uK4VI2rc0zl"
      },
      "execution_count": 96,
      "outputs": []
    },
    {
      "cell_type": "code",
      "execution_count": 97,
      "metadata": {
        "id": "PRY4rfLAp9I2"
      },
      "outputs": [],
      "source": [
        "class CustomImageDataset(Dataset):\n",
        "    def __init__(self, dataframe, transform=None):\n",
        "        self.dataframe = dataframe\n",
        "        self.transform = transform\n",
        "\n",
        "    def __len__(self):\n",
        "        return len(self.dataframe)\n",
        "\n",
        "    def __getitem__(self, idx):\n",
        "        img_path = self.dataframe.iloc[idx, 0]  # 'FilePath' 열에서 이미지 경로 가져오기\n",
        "        image = Image.open(img_path).convert(\"L\")  # 이미지를 흑백으로 로드\n",
        "\n",
        "        if self.transform:\n",
        "            image = self.transform(image)\n",
        "\n",
        "        return image\n",
        "\n",
        "\n",
        "# 이미지를 불러올 때 적용할 전처리 정의\n",
        "test_transform = transforms.Compose(\n",
        "    [\n",
        "        transforms.Resize((28, 28)),  # 이미지 크기를 (28, 28)로 조정\n",
        "        transforms.ToTensor(),  # 이미지를 PyTorch 텐서로 변환\n",
        "    ]\n",
        ")\n",
        "\n",
        "# 커스텀 데이터셋 인스턴스 생성\n",
        "custom_dataset = CustomImageDataset(dataframe=test, transform=test_transform)\n",
        "\n",
        "# DataLoader 인스턴스 생성\n",
        "test_loader = DataLoader(custom_dataset, batch_size=1, shuffle=False)"
      ]
    },
    {
      "cell_type": "markdown",
      "metadata": {
        "id": "leY8sGeZp9I3"
      },
      "source": [
        "shape 를 확인합니다.\n"
      ]
    },
    {
      "cell_type": "code",
      "execution_count": 98,
      "metadata": {
        "id": "XeKbr7Kep9I4",
        "outputId": "05f74aca-bf91-462d-e0ac-4edef89ea2e6",
        "colab": {
          "base_uri": "https://localhost:8080/"
        }
      },
      "outputs": [
        {
          "output_type": "execute_result",
          "data": {
            "text/plain": [
              "(torch.Size([32, 1, 28, 28]), torch.Size([32]))"
            ]
          },
          "metadata": {},
          "execution_count": 98
        }
      ],
      "source": [
        "x, y = next(iter(train_loader))\n",
        "x.shape, y.shape"
      ]
    },
    {
      "cell_type": "code",
      "execution_count": 99,
      "metadata": {
        "id": "oCcMs3Mtp9I5",
        "outputId": "a4ee93f2-422b-4e26-f21c-8b8499e1c73b",
        "colab": {
          "base_uri": "https://localhost:8080/"
        }
      },
      "outputs": [
        {
          "output_type": "execute_result",
          "data": {
            "text/plain": [
              "torch.Size([1, 1, 28, 28])"
            ]
          },
          "metadata": {},
          "execution_count": 99
        }
      ],
      "source": [
        "x = next(iter(test_loader))\n",
        "x.shape"
      ]
    },
    {
      "cell_type": "code",
      "execution_count": 100,
      "metadata": {
        "id": "jVGq3pcwp9I5",
        "outputId": "73f8a7a0-bdb3-4aa9-bb12-f82c7d02a8f0",
        "colab": {
          "base_uri": "https://localhost:8080/"
        }
      },
      "outputs": [
        {
          "output_type": "stream",
          "name": "stdout",
          "text": [
            "cuda:0\n"
          ]
        }
      ],
      "source": [
        "import torch\n",
        "import torch.nn as nn\n",
        "import torch.optim as optim\n",
        "import torch.nn.functional as F\n",
        "\n",
        "# Device 설정 (cuda:0 혹은 cpu)\n",
        "device = torch.device(\"cuda:0\" if torch.cuda.is_available() else \"cpu\")\n",
        "print(device)\n",
        "\n",
        "\n",
        "class Net(nn.Module):\n",
        "    def __init__(self, num_classes):\n",
        "        super(Net, self).__init__()\n",
        "        self.fc1 = nn.Linear(28*28,256)\n",
        "        self.fc2 = nn.Linear(256,128)\n",
        "        self.fc3 = nn.Linear(128,64)\n",
        "        self.fc4 = nn.Linear(64,32)\n",
        "        #마지막 출력층의 뉴런은 클래스 개수로 결정\n",
        "        self.output = nn.Linear(32,num_classes)\n",
        "\n",
        "    def forward(self, x):\n",
        "        # (B, 1, 28, 28) -> (B, 28*28)\n",
        "        x = x.view(-1, 28 * 28)\n",
        "        x = F.relu(self.fc1(x))\n",
        "        x = F.relu(self.fc2(x))\n",
        "        x = F.relu(self.fc3(x))\n",
        "        x = F.relu(self.fc4(x))\n",
        "        x = self.output(x)\n",
        "\n",
        "\n",
        "        return x"
      ]
    },
    {
      "cell_type": "code",
      "execution_count": 101,
      "metadata": {
        "id": "OHDwArowp9I6",
        "outputId": "a3e4f0c2-5304-4d9e-899c-a69b17991031",
        "colab": {
          "base_uri": "https://localhost:8080/"
        }
      },
      "outputs": [
        {
          "output_type": "execute_result",
          "data": {
            "text/plain": [
              "Net(\n",
              "  (fc1): Linear(in_features=784, out_features=256, bias=True)\n",
              "  (fc2): Linear(in_features=256, out_features=128, bias=True)\n",
              "  (fc3): Linear(in_features=128, out_features=64, bias=True)\n",
              "  (fc4): Linear(in_features=64, out_features=32, bias=True)\n",
              "  (output): Linear(in_features=32, out_features=10, bias=True)\n",
              ")"
            ]
          },
          "metadata": {},
          "execution_count": 101
        }
      ],
      "source": [
        "# 모델 생성\n",
        "model = Net(num_classes=10)\n",
        "\n",
        "# 모델을 device 에 올립니다. (cuda:0 혹은 cpu)\n",
        "model.to(device)\n",
        "model"
      ]
    },
    {
      "cell_type": "code",
      "source": [
        "#dataset 생성\n",
        "#train_dataset = CustomImageDataset(train)\n",
        "#valid_dataset = CustomImageDataset(valid)\n",
        "#test_dataset = CustomImageDataset(test)"
      ],
      "metadata": {
        "id": "7k4ctfnkf8cO"
      },
      "execution_count": 102,
      "outputs": []
    },
    {
      "cell_type": "markdown",
      "metadata": {
        "id": "GLT6qQcGp9I7"
      },
      "source": [
        "### Loss Function & Optimizer\n"
      ]
    },
    {
      "cell_type": "code",
      "execution_count": 103,
      "metadata": {
        "id": "h39NvPekp9I7"
      },
      "outputs": [],
      "source": [
        "# Loss function 정의\n",
        "loss_fn = nn.CrossEntropyLoss()\n",
        "\n",
        "# 옵티마이저 설정: model.paramters()와 learning_rate 설정\n",
        "optimizer = optim.Adam(model.parameters(),lr=0.001)"
      ]
    },
    {
      "cell_type": "markdown",
      "source": [
        "#DataLoader"
      ],
      "metadata": {
        "id": "E7Fy-v1zgeQe"
      }
    },
    {
      "cell_type": "code",
      "source": [
        "from torch.utils.data import DataLoader\n",
        "\n",
        "# batch_size = 32 로 설정하고, shuffle을 True로 설정\n",
        "#train_loader = DataLoader(train_dataset,batch_size=32,shuffle=True)\n",
        "\n",
        "#valid_loader = DataLoader(valid_dataset, batch_size=32, shuffle=True)\n",
        "# batch_size = 1 로 설정하고, shuffle을 False로 설정\n",
        "#test_loader = DataLoader(test_dataset, batch_size=1,shuffle=False)\n",
        "#섞이면 예측값이 정답과 순서가 안맞음"
      ],
      "metadata": {
        "id": "yJghP0zXgce8"
      },
      "execution_count": 104,
      "outputs": []
    },
    {
      "cell_type": "markdown",
      "metadata": {
        "id": "zUFj2W_7p9I8"
      },
      "source": [
        "### 모델 학습(Training)\n"
      ]
    },
    {
      "cell_type": "code",
      "execution_count": 105,
      "metadata": {
        "id": "NCx_32Fap9I8",
        "outputId": "d4ed009c-05d2-4858-bf8c-9920b8687af3",
        "colab": {
          "base_uri": "https://localhost:8080/"
        }
      },
      "outputs": [
        {
          "output_type": "stream",
          "name": "stdout",
          "text": [
            "000 loss = 2.29640, accuracy = 0.11550\n",
            "001 loss = 2.20920, accuracy = 0.17700\n",
            "002 loss = 2.16336, accuracy = 0.21013\n",
            "003 loss = 2.11884, accuracy = 0.23725\n",
            "004 loss = 2.08676, accuracy = 0.24938\n",
            "005 loss = 2.07172, accuracy = 0.25638\n",
            "006 loss = 2.04112, accuracy = 0.27337\n",
            "007 loss = 2.02605, accuracy = 0.27825\n",
            "008 loss = 2.00985, accuracy = 0.28600\n",
            "009 loss = 1.99039, accuracy = 0.29163\n",
            "010 loss = 1.97190, accuracy = 0.29650\n",
            "011 loss = 1.94918, accuracy = 0.31288\n",
            "012 loss = 1.93225, accuracy = 0.31112\n",
            "013 loss = 1.90583, accuracy = 0.32212\n",
            "014 loss = 1.87823, accuracy = 0.33487\n",
            "015 loss = 1.86303, accuracy = 0.34013\n",
            "016 loss = 1.83354, accuracy = 0.35737\n",
            "017 loss = 1.81683, accuracy = 0.35263\n",
            "018 loss = 1.78603, accuracy = 0.37250\n",
            "019 loss = 1.76639, accuracy = 0.37938\n",
            "020 loss = 1.73592, accuracy = 0.39537\n",
            "021 loss = 1.73294, accuracy = 0.39000\n",
            "022 loss = 1.71444, accuracy = 0.39875\n",
            "023 loss = 1.69938, accuracy = 0.40263\n",
            "024 loss = 1.67265, accuracy = 0.40963\n",
            "025 loss = 1.63331, accuracy = 0.42812\n",
            "026 loss = 1.62204, accuracy = 0.43462\n",
            "027 loss = 1.60018, accuracy = 0.44262\n",
            "028 loss = 1.57874, accuracy = 0.45513\n",
            "029 loss = 1.54480, accuracy = 0.46313\n",
            "030 loss = 1.52045, accuracy = 0.47150\n",
            "031 loss = 1.51462, accuracy = 0.47463\n",
            "032 loss = 1.48719, accuracy = 0.47913\n",
            "033 loss = 1.46395, accuracy = 0.49262\n",
            "034 loss = 1.44559, accuracy = 0.49962\n",
            "035 loss = 1.41381, accuracy = 0.50975\n",
            "036 loss = 1.39252, accuracy = 0.52063\n",
            "037 loss = 1.39885, accuracy = 0.51987\n",
            "038 loss = 1.34684, accuracy = 0.53275\n",
            "039 loss = 1.33869, accuracy = 0.53263\n",
            "040 loss = 1.33880, accuracy = 0.53563\n",
            "041 loss = 1.28724, accuracy = 0.56300\n",
            "042 loss = 1.26664, accuracy = 0.56463\n",
            "043 loss = 1.26123, accuracy = 0.56725\n",
            "044 loss = 1.24006, accuracy = 0.56937\n",
            "045 loss = 1.19781, accuracy = 0.58700\n",
            "046 loss = 1.17901, accuracy = 0.59237\n",
            "047 loss = 1.16505, accuracy = 0.59775\n",
            "048 loss = 1.16462, accuracy = 0.59837\n",
            "049 loss = 1.13980, accuracy = 0.60262\n"
          ]
        }
      ],
      "source": [
        "# 최대 반복 횟수 정의\n",
        "num_epoch = 50\n",
        "\n",
        "# loss 기록하기 위한 list 정의\n",
        "losses = []\n",
        "accs = []\n",
        "\n",
        "# 훈련 모드 활성화\n",
        "model.train()\n",
        "\n",
        "for epoch in range(num_epoch):\n",
        "    # loss 초기화\n",
        "    running_loss = 0\n",
        "    # 정확도 계산\n",
        "    running_acc = 0\n",
        "\n",
        "    for x, y in train_loader:\n",
        "        # x, y 데이터를 device 에 올립니다. (cuda:0 혹은 cpu)\n",
        "        x = x.to(device)\n",
        "        y = y.to(device)\n",
        "\n",
        "        # 그라디언트 초기화 (초기화를 수행하지 않으면 계산된 그라디언트는 누적됩니다.)\n",
        "        optimizer.zero_grad()\n",
        "\n",
        "        # output 계산\n",
        "        output = model(x)\n",
        "\n",
        "        # 손실(loss) 계산 (예측 Prediction, 실제 Ground Truth)\n",
        "        loss = loss_fn(output,y) #y_hat = output\n",
        "\n",
        "        # 미분 계산\n",
        "        loss.backward()\n",
        "\n",
        "        # 경사하강법 계산 및 적용\n",
        "        optimizer.step()\n",
        "\n",
        "        # 배치별 loss 를 누적합산 합니다.\n",
        "        running_loss += loss.item()\n",
        "        running_acc += output.argmax(dim=1).eq(y).sum().item() / len(y)\n",
        "\n",
        "    # 누적합산된 배치별 loss값을 배치의 개수로 나누어 Epoch당 loss를 산출합니다.\n",
        "    loss = running_loss / len(train_loader)\n",
        "    losses.append(loss)\n",
        "    acc = running_acc / len(train_loader)\n",
        "    accs.append(acc)\n",
        "\n",
        "    # 매 Epoch의 학습이 끝날때 훈련 결과를 출력합니다.\n",
        "    print(f\"{epoch:03d} loss = {loss:.5f}, accuracy = {acc:.5f}\")"
      ]
    },
    {
      "cell_type": "markdown",
      "metadata": {
        "id": "8bEQity1p9I9"
      },
      "source": [
        "### 예측\n"
      ]
    },
    {
      "cell_type": "code",
      "execution_count": 109,
      "metadata": {
        "id": "5562q7Uwp9I9"
      },
      "outputs": [],
      "source": [
        "predictions = []\n",
        "\n",
        "# 검증모드 진입\n",
        "model.eval()\n",
        "\n",
        "with torch.no_grad():\n",
        "    # loss 초기화\n",
        "    running_loss = 0\n",
        "    # 정확도 계산\n",
        "    running_acc = 0\n",
        "    for x in test_loader:\n",
        "        x = x.to(device)\n",
        "\n",
        "        y_hat = model(x)\n",
        "        label = y_hat.argmax(dim=1).detach().item()\n",
        "        predictions.append(label)"
      ]
    },
    {
      "cell_type": "code",
      "execution_count": 110,
      "metadata": {
        "id": "F9VaCJw8p9I9"
      },
      "outputs": [],
      "source": [
        "# 정답\n",
        "your_answer = [idx_to_class[l] for l in predictions]"
      ]
    },
    {
      "cell_type": "markdown",
      "metadata": {
        "id": "V1PURs-gbphu"
      },
      "source": [
        "## 결과 제출\n",
        "\n",
        "- 느리다고 중지 후 다시 평가 코드를 실행하는 경우 제출 과정에서 패널티가 발생할 수 있습니다. (제출 횟수 이슈 발생 가능)\n",
        "- 제출결과는 [대회페이지](http://braincrew2.iptime.org:8001/competitions/ADVHOUSE/)의 `리더보드` 와 `제출` 탭에서 확인할 수 있습니다.\n"
      ]
    },
    {
      "cell_type": "markdown",
      "metadata": {
        "id": "AQAW_wggqgOP"
      },
      "source": [
        "아래 Cell을 실행하여 예측 결과 업데이트\n"
      ]
    },
    {
      "cell_type": "code",
      "execution_count": 108,
      "metadata": {
        "id": "bK6QjWWNuxeF",
        "outputId": "a6874640-fd95-4d2f-b01a-53c85aa329e7",
        "colab": {
          "base_uri": "https://localhost:8080/",
          "height": 510
        }
      },
      "outputs": [
        {
          "output_type": "display_data",
          "data": {
            "text/plain": [
              "                          FilePath                Label\n",
              "0     ./test_data/0027b80dd098.jpg  milhouse_van_houten\n",
              "1     ./test_data/005b15b22e3c.jpg  milhouse_van_houten\n",
              "2     ./test_data/0095881c3257.jpg        homer_simpson\n",
              "3     ./test_data/00cea80c4825.jpg         lisa_simpson\n",
              "4     ./test_data/00d8f6050dcf.jpg  milhouse_van_houten\n",
              "...                            ...                  ...\n",
              "1995  ./test_data/ff4b83998ab2.jpg    principal_skinner\n",
              "1996  ./test_data/ff71e9a150ae.jpg         bart_simpson\n",
              "1997  ./test_data/ff80ecf57714.jpg         bart_simpson\n",
              "1998  ./test_data/ff82162d181e.jpg    principal_skinner\n",
              "1999  ./test_data/ff94e5f1b01c.jpg  milhouse_van_houten\n",
              "\n",
              "[2000 rows x 2 columns]"
            ],
            "text/html": [
              "\n",
              "  <div id=\"df-0df33369-a52d-4541-9228-82415e588557\" class=\"colab-df-container\">\n",
              "    <div>\n",
              "<style scoped>\n",
              "    .dataframe tbody tr th:only-of-type {\n",
              "        vertical-align: middle;\n",
              "    }\n",
              "\n",
              "    .dataframe tbody tr th {\n",
              "        vertical-align: top;\n",
              "    }\n",
              "\n",
              "    .dataframe thead th {\n",
              "        text-align: right;\n",
              "    }\n",
              "</style>\n",
              "<table border=\"1\" class=\"dataframe\">\n",
              "  <thead>\n",
              "    <tr style=\"text-align: right;\">\n",
              "      <th></th>\n",
              "      <th>FilePath</th>\n",
              "      <th>Label</th>\n",
              "    </tr>\n",
              "  </thead>\n",
              "  <tbody>\n",
              "    <tr>\n",
              "      <th>0</th>\n",
              "      <td>./test_data/0027b80dd098.jpg</td>\n",
              "      <td>milhouse_van_houten</td>\n",
              "    </tr>\n",
              "    <tr>\n",
              "      <th>1</th>\n",
              "      <td>./test_data/005b15b22e3c.jpg</td>\n",
              "      <td>milhouse_van_houten</td>\n",
              "    </tr>\n",
              "    <tr>\n",
              "      <th>2</th>\n",
              "      <td>./test_data/0095881c3257.jpg</td>\n",
              "      <td>homer_simpson</td>\n",
              "    </tr>\n",
              "    <tr>\n",
              "      <th>3</th>\n",
              "      <td>./test_data/00cea80c4825.jpg</td>\n",
              "      <td>lisa_simpson</td>\n",
              "    </tr>\n",
              "    <tr>\n",
              "      <th>4</th>\n",
              "      <td>./test_data/00d8f6050dcf.jpg</td>\n",
              "      <td>milhouse_van_houten</td>\n",
              "    </tr>\n",
              "    <tr>\n",
              "      <th>...</th>\n",
              "      <td>...</td>\n",
              "      <td>...</td>\n",
              "    </tr>\n",
              "    <tr>\n",
              "      <th>1995</th>\n",
              "      <td>./test_data/ff4b83998ab2.jpg</td>\n",
              "      <td>principal_skinner</td>\n",
              "    </tr>\n",
              "    <tr>\n",
              "      <th>1996</th>\n",
              "      <td>./test_data/ff71e9a150ae.jpg</td>\n",
              "      <td>bart_simpson</td>\n",
              "    </tr>\n",
              "    <tr>\n",
              "      <th>1997</th>\n",
              "      <td>./test_data/ff80ecf57714.jpg</td>\n",
              "      <td>bart_simpson</td>\n",
              "    </tr>\n",
              "    <tr>\n",
              "      <th>1998</th>\n",
              "      <td>./test_data/ff82162d181e.jpg</td>\n",
              "      <td>principal_skinner</td>\n",
              "    </tr>\n",
              "    <tr>\n",
              "      <th>1999</th>\n",
              "      <td>./test_data/ff94e5f1b01c.jpg</td>\n",
              "      <td>milhouse_van_houten</td>\n",
              "    </tr>\n",
              "  </tbody>\n",
              "</table>\n",
              "<p>2000 rows × 2 columns</p>\n",
              "</div>\n",
              "    <div class=\"colab-df-buttons\">\n",
              "\n",
              "  <div class=\"colab-df-container\">\n",
              "    <button class=\"colab-df-convert\" onclick=\"convertToInteractive('df-0df33369-a52d-4541-9228-82415e588557')\"\n",
              "            title=\"Convert this dataframe to an interactive table.\"\n",
              "            style=\"display:none;\">\n",
              "\n",
              "  <svg xmlns=\"http://www.w3.org/2000/svg\" height=\"24px\" viewBox=\"0 -960 960 960\">\n",
              "    <path d=\"M120-120v-720h720v720H120Zm60-500h600v-160H180v160Zm220 220h160v-160H400v160Zm0 220h160v-160H400v160ZM180-400h160v-160H180v160Zm440 0h160v-160H620v160ZM180-180h160v-160H180v160Zm440 0h160v-160H620v160Z\"/>\n",
              "  </svg>\n",
              "    </button>\n",
              "\n",
              "  <style>\n",
              "    .colab-df-container {\n",
              "      display:flex;\n",
              "      gap: 12px;\n",
              "    }\n",
              "\n",
              "    .colab-df-convert {\n",
              "      background-color: #E8F0FE;\n",
              "      border: none;\n",
              "      border-radius: 50%;\n",
              "      cursor: pointer;\n",
              "      display: none;\n",
              "      fill: #1967D2;\n",
              "      height: 32px;\n",
              "      padding: 0 0 0 0;\n",
              "      width: 32px;\n",
              "    }\n",
              "\n",
              "    .colab-df-convert:hover {\n",
              "      background-color: #E2EBFA;\n",
              "      box-shadow: 0px 1px 2px rgba(60, 64, 67, 0.3), 0px 1px 3px 1px rgba(60, 64, 67, 0.15);\n",
              "      fill: #174EA6;\n",
              "    }\n",
              "\n",
              "    .colab-df-buttons div {\n",
              "      margin-bottom: 4px;\n",
              "    }\n",
              "\n",
              "    [theme=dark] .colab-df-convert {\n",
              "      background-color: #3B4455;\n",
              "      fill: #D2E3FC;\n",
              "    }\n",
              "\n",
              "    [theme=dark] .colab-df-convert:hover {\n",
              "      background-color: #434B5C;\n",
              "      box-shadow: 0px 1px 3px 1px rgba(0, 0, 0, 0.15);\n",
              "      filter: drop-shadow(0px 1px 2px rgba(0, 0, 0, 0.3));\n",
              "      fill: #FFFFFF;\n",
              "    }\n",
              "  </style>\n",
              "\n",
              "    <script>\n",
              "      const buttonEl =\n",
              "        document.querySelector('#df-0df33369-a52d-4541-9228-82415e588557 button.colab-df-convert');\n",
              "      buttonEl.style.display =\n",
              "        google.colab.kernel.accessAllowed ? 'block' : 'none';\n",
              "\n",
              "      async function convertToInteractive(key) {\n",
              "        const element = document.querySelector('#df-0df33369-a52d-4541-9228-82415e588557');\n",
              "        const dataTable =\n",
              "          await google.colab.kernel.invokeFunction('convertToInteractive',\n",
              "                                                    [key], {});\n",
              "        if (!dataTable) return;\n",
              "\n",
              "        const docLinkHtml = 'Like what you see? Visit the ' +\n",
              "          '<a target=\"_blank\" href=https://colab.research.google.com/notebooks/data_table.ipynb>data table notebook</a>'\n",
              "          + ' to learn more about interactive tables.';\n",
              "        element.innerHTML = '';\n",
              "        dataTable['output_type'] = 'display_data';\n",
              "        await google.colab.output.renderOutput(dataTable, element);\n",
              "        const docLink = document.createElement('div');\n",
              "        docLink.innerHTML = docLinkHtml;\n",
              "        element.appendChild(docLink);\n",
              "      }\n",
              "    </script>\n",
              "  </div>\n",
              "\n",
              "\n",
              "<div id=\"df-f5d37c1a-5d21-4d96-988f-df4eab006df2\">\n",
              "  <button class=\"colab-df-quickchart\" onclick=\"quickchart('df-f5d37c1a-5d21-4d96-988f-df4eab006df2')\"\n",
              "            title=\"Suggest charts\"\n",
              "            style=\"display:none;\">\n",
              "\n",
              "<svg xmlns=\"http://www.w3.org/2000/svg\" height=\"24px\"viewBox=\"0 0 24 24\"\n",
              "     width=\"24px\">\n",
              "    <g>\n",
              "        <path d=\"M19 3H5c-1.1 0-2 .9-2 2v14c0 1.1.9 2 2 2h14c1.1 0 2-.9 2-2V5c0-1.1-.9-2-2-2zM9 17H7v-7h2v7zm4 0h-2V7h2v10zm4 0h-2v-4h2v4z\"/>\n",
              "    </g>\n",
              "</svg>\n",
              "  </button>\n",
              "\n",
              "<style>\n",
              "  .colab-df-quickchart {\n",
              "      --bg-color: #E8F0FE;\n",
              "      --fill-color: #1967D2;\n",
              "      --hover-bg-color: #E2EBFA;\n",
              "      --hover-fill-color: #174EA6;\n",
              "      --disabled-fill-color: #AAA;\n",
              "      --disabled-bg-color: #DDD;\n",
              "  }\n",
              "\n",
              "  [theme=dark] .colab-df-quickchart {\n",
              "      --bg-color: #3B4455;\n",
              "      --fill-color: #D2E3FC;\n",
              "      --hover-bg-color: #434B5C;\n",
              "      --hover-fill-color: #FFFFFF;\n",
              "      --disabled-bg-color: #3B4455;\n",
              "      --disabled-fill-color: #666;\n",
              "  }\n",
              "\n",
              "  .colab-df-quickchart {\n",
              "    background-color: var(--bg-color);\n",
              "    border: none;\n",
              "    border-radius: 50%;\n",
              "    cursor: pointer;\n",
              "    display: none;\n",
              "    fill: var(--fill-color);\n",
              "    height: 32px;\n",
              "    padding: 0;\n",
              "    width: 32px;\n",
              "  }\n",
              "\n",
              "  .colab-df-quickchart:hover {\n",
              "    background-color: var(--hover-bg-color);\n",
              "    box-shadow: 0 1px 2px rgba(60, 64, 67, 0.3), 0 1px 3px 1px rgba(60, 64, 67, 0.15);\n",
              "    fill: var(--button-hover-fill-color);\n",
              "  }\n",
              "\n",
              "  .colab-df-quickchart-complete:disabled,\n",
              "  .colab-df-quickchart-complete:disabled:hover {\n",
              "    background-color: var(--disabled-bg-color);\n",
              "    fill: var(--disabled-fill-color);\n",
              "    box-shadow: none;\n",
              "  }\n",
              "\n",
              "  .colab-df-spinner {\n",
              "    border: 2px solid var(--fill-color);\n",
              "    border-color: transparent;\n",
              "    border-bottom-color: var(--fill-color);\n",
              "    animation:\n",
              "      spin 1s steps(1) infinite;\n",
              "  }\n",
              "\n",
              "  @keyframes spin {\n",
              "    0% {\n",
              "      border-color: transparent;\n",
              "      border-bottom-color: var(--fill-color);\n",
              "      border-left-color: var(--fill-color);\n",
              "    }\n",
              "    20% {\n",
              "      border-color: transparent;\n",
              "      border-left-color: var(--fill-color);\n",
              "      border-top-color: var(--fill-color);\n",
              "    }\n",
              "    30% {\n",
              "      border-color: transparent;\n",
              "      border-left-color: var(--fill-color);\n",
              "      border-top-color: var(--fill-color);\n",
              "      border-right-color: var(--fill-color);\n",
              "    }\n",
              "    40% {\n",
              "      border-color: transparent;\n",
              "      border-right-color: var(--fill-color);\n",
              "      border-top-color: var(--fill-color);\n",
              "    }\n",
              "    60% {\n",
              "      border-color: transparent;\n",
              "      border-right-color: var(--fill-color);\n",
              "    }\n",
              "    80% {\n",
              "      border-color: transparent;\n",
              "      border-right-color: var(--fill-color);\n",
              "      border-bottom-color: var(--fill-color);\n",
              "    }\n",
              "    90% {\n",
              "      border-color: transparent;\n",
              "      border-bottom-color: var(--fill-color);\n",
              "    }\n",
              "  }\n",
              "</style>\n",
              "\n",
              "  <script>\n",
              "    async function quickchart(key) {\n",
              "      const quickchartButtonEl =\n",
              "        document.querySelector('#' + key + ' button');\n",
              "      quickchartButtonEl.disabled = true;  // To prevent multiple clicks.\n",
              "      quickchartButtonEl.classList.add('colab-df-spinner');\n",
              "      try {\n",
              "        const charts = await google.colab.kernel.invokeFunction(\n",
              "            'suggestCharts', [key], {});\n",
              "      } catch (error) {\n",
              "        console.error('Error during call to suggestCharts:', error);\n",
              "      }\n",
              "      quickchartButtonEl.classList.remove('colab-df-spinner');\n",
              "      quickchartButtonEl.classList.add('colab-df-quickchart-complete');\n",
              "    }\n",
              "    (() => {\n",
              "      let quickchartButtonEl =\n",
              "        document.querySelector('#df-f5d37c1a-5d21-4d96-988f-df4eab006df2 button');\n",
              "      quickchartButtonEl.style.display =\n",
              "        google.colab.kernel.accessAllowed ? 'block' : 'none';\n",
              "    })();\n",
              "  </script>\n",
              "</div>\n",
              "\n",
              "  <div id=\"id_99c45ca3-5257-4d6f-bf1b-0ee0ee943a75\">\n",
              "    <style>\n",
              "      .colab-df-generate {\n",
              "        background-color: #E8F0FE;\n",
              "        border: none;\n",
              "        border-radius: 50%;\n",
              "        cursor: pointer;\n",
              "        display: none;\n",
              "        fill: #1967D2;\n",
              "        height: 32px;\n",
              "        padding: 0 0 0 0;\n",
              "        width: 32px;\n",
              "      }\n",
              "\n",
              "      .colab-df-generate:hover {\n",
              "        background-color: #E2EBFA;\n",
              "        box-shadow: 0px 1px 2px rgba(60, 64, 67, 0.3), 0px 1px 3px 1px rgba(60, 64, 67, 0.15);\n",
              "        fill: #174EA6;\n",
              "      }\n",
              "\n",
              "      [theme=dark] .colab-df-generate {\n",
              "        background-color: #3B4455;\n",
              "        fill: #D2E3FC;\n",
              "      }\n",
              "\n",
              "      [theme=dark] .colab-df-generate:hover {\n",
              "        background-color: #434B5C;\n",
              "        box-shadow: 0px 1px 3px 1px rgba(0, 0, 0, 0.15);\n",
              "        filter: drop-shadow(0px 1px 2px rgba(0, 0, 0, 0.3));\n",
              "        fill: #FFFFFF;\n",
              "      }\n",
              "    </style>\n",
              "    <button class=\"colab-df-generate\" onclick=\"generateWithVariable('submission')\"\n",
              "            title=\"Generate code using this dataframe.\"\n",
              "            style=\"display:none;\">\n",
              "\n",
              "  <svg xmlns=\"http://www.w3.org/2000/svg\" height=\"24px\"viewBox=\"0 0 24 24\"\n",
              "       width=\"24px\">\n",
              "    <path d=\"M7,19H8.4L18.45,9,17,7.55,7,17.6ZM5,21V16.75L18.45,3.32a2,2,0,0,1,2.83,0l1.4,1.43a1.91,1.91,0,0,1,.58,1.4,1.91,1.91,0,0,1-.58,1.4L9.25,21ZM18.45,9,17,7.55Zm-12,3A5.31,5.31,0,0,0,4.9,8.1,5.31,5.31,0,0,0,1,6.5,5.31,5.31,0,0,0,4.9,4.9,5.31,5.31,0,0,0,6.5,1,5.31,5.31,0,0,0,8.1,4.9,5.31,5.31,0,0,0,12,6.5,5.46,5.46,0,0,0,6.5,12Z\"/>\n",
              "  </svg>\n",
              "    </button>\n",
              "    <script>\n",
              "      (() => {\n",
              "      const buttonEl =\n",
              "        document.querySelector('#id_99c45ca3-5257-4d6f-bf1b-0ee0ee943a75 button.colab-df-generate');\n",
              "      buttonEl.style.display =\n",
              "        google.colab.kernel.accessAllowed ? 'block' : 'none';\n",
              "\n",
              "      buttonEl.onclick = () => {\n",
              "        google.colab.notebook.generateWithVariable('submission');\n",
              "      }\n",
              "      })();\n",
              "    </script>\n",
              "  </div>\n",
              "\n",
              "    </div>\n",
              "  </div>\n"
            ],
            "application/vnd.google.colaboratory.intrinsic+json": {
              "type": "dataframe",
              "variable_name": "submission",
              "summary": "{\n  \"name\": \"submission\",\n  \"rows\": 2000,\n  \"fields\": [\n    {\n      \"column\": \"FilePath\",\n      \"properties\": {\n        \"dtype\": \"string\",\n        \"num_unique_values\": 2000,\n        \"samples\": [\n          \"./test_data/ec6242b158d6.jpg\",\n          \"./test_data/2f01f1006220.jpg\",\n          \"./test_data/ac73cf9c5b2c.jpg\"\n        ],\n        \"semantic_type\": \"\",\n        \"description\": \"\"\n      }\n    },\n    {\n      \"column\": \"Label\",\n      \"properties\": {\n        \"dtype\": \"category\",\n        \"num_unique_values\": 10,\n        \"samples\": [\n          \"ned_flanders\",\n          \"homer_simpson\",\n          \"marge_simpson\"\n        ],\n        \"semantic_type\": \"\",\n        \"description\": \"\"\n      }\n    }\n  ]\n}"
            }
          },
          "metadata": {}
        },
        {
          "output_type": "stream",
          "name": "stdout",
          "text": [
            "아이디:  22011271@sju.ac.kr\n",
            "파일명:  submissions/20240903-061929-submission.csv\n",
            "============================================================\n",
            "[제출에 성공하였습니다]\n",
            "제출 결과: 0.3475\n"
          ]
        }
      ],
      "source": [
        "import competition\n",
        "\n",
        "# 예측 결과 업데이트\n",
        "submission = pd.read_csv(os.path.join(DATA_DIR, \"submission.csv\"))\n",
        "submission[\"Label\"] = your_answer\n",
        "\n",
        "display(submission)\n",
        "competition.submit(project, username, password, submission)"
      ]
    }
  ],
  "metadata": {
    "accelerator": "GPU",
    "colab": {
      "provenance": [],
      "include_colab_link": true
    },
    "gpuClass": "standard",
    "kernelspec": {
      "display_name": "Python 3 (ipykernel)",
      "language": "python",
      "name": "python3"
    },
    "language_info": {
      "codemirror_mode": {
        "name": "ipython",
        "version": 3
      },
      "file_extension": ".py",
      "mimetype": "text/x-python",
      "name": "python",
      "nbconvert_exporter": "python",
      "pygments_lexer": "ipython3",
      "version": "3.9.18"
    }
  },
  "nbformat": 4,
  "nbformat_minor": 0
}