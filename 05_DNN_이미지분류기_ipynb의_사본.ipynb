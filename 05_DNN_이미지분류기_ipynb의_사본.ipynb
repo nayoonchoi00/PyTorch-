{
  "cells": [
    {
      "cell_type": "markdown",
      "metadata": {
        "id": "view-in-github",
        "colab_type": "text"
      },
      "source": [
        "<a href=\"https://colab.research.google.com/github/nayoonchoi00/PyTorch-DL/blob/main/05_DNN_%EC%9D%B4%EB%AF%B8%EC%A7%80%EB%B6%84%EB%A5%98%EA%B8%B0_ipynb%EC%9D%98_%EC%82%AC%EB%B3%B8.ipynb\" target=\"_parent\"><img src=\"https://colab.research.google.com/assets/colab-badge.svg\" alt=\"Open In Colab\"/></a>"
      ]
    },
    {
      "cell_type": "code",
      "execution_count": 1,
      "id": "0bd10b24",
      "metadata": {
        "id": "0bd10b24"
      },
      "outputs": [],
      "source": [
        "import numpy as np\n",
        "import torch\n",
        "from torch.utils.data import Dataset\n",
        "from torchvision import datasets, transforms"
      ]
    },
    {
      "cell_type": "markdown",
      "id": "345bb4d5",
      "metadata": {
        "id": "345bb4d5"
      },
      "source": [
        "### 내장 데이터셋 로드\n",
        "\n",
        "- `FashionMNIST` 데이터셋 로드하는 예제\n"
      ]
    },
    {
      "cell_type": "markdown",
      "id": "bddf5151",
      "metadata": {
        "id": "bddf5151"
      },
      "source": [
        "- `root`: 데이터셋을 다운로드 받을 경로(폴더) 지정.\n",
        "- `train`: `True`로 설정된 경우 `train` 데이터셋에서 로드하며, `False`인 경우 `test` 데이터셋에서 로드\n",
        "- `download`: `True`로 설정된 경우, 인터넷으로부터 데이터셋을 다운로드 받아 지정된 `root` 디렉토리에 다운로드\n",
        "- `transform`: 이미지 `transform` 적용\n"
      ]
    },
    {
      "cell_type": "code",
      "execution_count": 2,
      "id": "af76ea8e",
      "metadata": {
        "id": "af76ea8e"
      },
      "outputs": [],
      "source": [
        "# Image Transform 정의\n",
        "transform = transforms.Compose(\n",
        "    [\n",
        "        transforms.ToTensor(),\n",
        "    ]\n",
        ")"
      ]
    },
    {
      "cell_type": "code",
      "execution_count": 3,
      "id": "fa434082",
      "metadata": {
        "id": "fa434082",
        "colab": {
          "base_uri": "https://localhost:8080/"
        },
        "outputId": "ccfad679-c9b4-4719-e50b-d6ff4cd800f0"
      },
      "outputs": [
        {
          "output_type": "stream",
          "name": "stdout",
          "text": [
            "Downloading http://fashion-mnist.s3-website.eu-central-1.amazonaws.com/train-images-idx3-ubyte.gz\n",
            "Downloading http://fashion-mnist.s3-website.eu-central-1.amazonaws.com/train-images-idx3-ubyte.gz to data/FashionMNIST/raw/train-images-idx3-ubyte.gz\n"
          ]
        },
        {
          "output_type": "stream",
          "name": "stderr",
          "text": [
            "100%|██████████| 26421880/26421880 [00:01<00:00, 13374254.15it/s]\n"
          ]
        },
        {
          "output_type": "stream",
          "name": "stdout",
          "text": [
            "Extracting data/FashionMNIST/raw/train-images-idx3-ubyte.gz to data/FashionMNIST/raw\n",
            "\n",
            "Downloading http://fashion-mnist.s3-website.eu-central-1.amazonaws.com/train-labels-idx1-ubyte.gz\n",
            "Downloading http://fashion-mnist.s3-website.eu-central-1.amazonaws.com/train-labels-idx1-ubyte.gz to data/FashionMNIST/raw/train-labels-idx1-ubyte.gz\n"
          ]
        },
        {
          "output_type": "stream",
          "name": "stderr",
          "text": [
            "100%|██████████| 29515/29515 [00:00<00:00, 212217.74it/s]\n"
          ]
        },
        {
          "output_type": "stream",
          "name": "stdout",
          "text": [
            "Extracting data/FashionMNIST/raw/train-labels-idx1-ubyte.gz to data/FashionMNIST/raw\n",
            "\n",
            "Downloading http://fashion-mnist.s3-website.eu-central-1.amazonaws.com/t10k-images-idx3-ubyte.gz\n",
            "Downloading http://fashion-mnist.s3-website.eu-central-1.amazonaws.com/t10k-images-idx3-ubyte.gz to data/FashionMNIST/raw/t10k-images-idx3-ubyte.gz\n"
          ]
        },
        {
          "output_type": "stream",
          "name": "stderr",
          "text": [
            "100%|██████████| 4422102/4422102 [00:01<00:00, 3198327.23it/s]\n"
          ]
        },
        {
          "output_type": "stream",
          "name": "stdout",
          "text": [
            "Extracting data/FashionMNIST/raw/t10k-images-idx3-ubyte.gz to data/FashionMNIST/raw\n",
            "\n",
            "Downloading http://fashion-mnist.s3-website.eu-central-1.amazonaws.com/t10k-labels-idx1-ubyte.gz\n",
            "Downloading http://fashion-mnist.s3-website.eu-central-1.amazonaws.com/t10k-labels-idx1-ubyte.gz to data/FashionMNIST/raw/t10k-labels-idx1-ubyte.gz\n"
          ]
        },
        {
          "output_type": "stream",
          "name": "stderr",
          "text": [
            "100%|██████████| 5148/5148 [00:00<00:00, 5059108.95it/s]"
          ]
        },
        {
          "output_type": "stream",
          "name": "stdout",
          "text": [
            "Extracting data/FashionMNIST/raw/t10k-labels-idx1-ubyte.gz to data/FashionMNIST/raw\n",
            "\n"
          ]
        },
        {
          "output_type": "stream",
          "name": "stderr",
          "text": [
            "\n"
          ]
        }
      ],
      "source": [
        "# train(학습용) 데이터셋 로드\n",
        "train = datasets.FashionMNIST(\n",
        "    root=\"data\",\n",
        "    train=True,  # set True\n",
        "    download=True,  # 다운로드\n",
        "    transform=transform,  # transform 적용. (0~1 로 정규화)\n",
        ")"
      ]
    },
    {
      "cell_type": "code",
      "execution_count": 4,
      "id": "00d964a5",
      "metadata": {
        "id": "00d964a5"
      },
      "outputs": [],
      "source": [
        "# test(학습용) 데이터셋 로드\n",
        "test = datasets.FashionMNIST(\n",
        "    root=\"data\",\n",
        "    train=False,  # set to False\n",
        "    download=True,  # 다운로드\n",
        "    transform=transform,  # transform 적용. (0~1 로 정규화)\n",
        ")"
      ]
    },
    {
      "cell_type": "markdown",
      "id": "79ec39d2",
      "metadata": {
        "id": "79ec39d2"
      },
      "source": [
        "`FashionMNIST` 데이터셋 시각화\n",
        "\n",
        "- 총 10개의 카테고리로 구성되어 있으며, `Label`은 아래 코드에서 `labels_map`에 정의되어 있습니다.\n",
        "- 출처: [zalandoresearch/fashion-mnist](https://github.com/zalandoresearch/fashion-mnist)\n"
      ]
    },
    {
      "cell_type": "code",
      "execution_count": 5,
      "id": "d95b8e22",
      "metadata": {
        "id": "d95b8e22",
        "colab": {
          "base_uri": "https://localhost:8080/",
          "height": 449
        },
        "outputId": "86ef6703-2481-4a5d-e04d-c6292164d9d7"
      },
      "outputs": [
        {
          "output_type": "display_data",
          "data": {
            "text/plain": [
              "<Figure size 1200x800 with 40 Axes>"
            ],
            "image/png": "[encoded data removed]"
          },
          "metadata": {}
        }
      ],
      "source": [
        "import matplotlib.pyplot as plt\n",
        "\n",
        "labels_map = {\n",
        "    0: \"T-Shirt\",\n",
        "    1: \"Trouser\",\n",
        "    2: \"Pullover\",\n",
        "    3: \"Dress\",\n",
        "    4: \"Coat\",\n",
        "    5: \"Sandal\",\n",
        "    6: \"Shirt\",\n",
        "    7: \"Sneaker\",\n",
        "    8: \"Bag\",\n",
        "    9: \"Ankle Boot\",\n",
        "}\n",
        "\n",
        "figure = plt.figure(figsize=(12, 8))\n",
        "cols, rows = 8, 5\n",
        "\n",
        "for i in range(1, cols * rows + 1):\n",
        "    sample_idx = torch.randint(len(train), size=(1,)).item()\n",
        "    img, label = train[sample_idx]\n",
        "    figure.add_subplot(rows, cols, i)\n",
        "    plt.title(labels_map[label])\n",
        "    plt.axis(\"off\")\n",
        "    plt.imshow(torch.permute(img, (1, 2, 0)), cmap=\"gray\")\n",
        "plt.show()"
      ]
    },
    {
      "cell_type": "markdown",
      "id": "5ffa7009",
      "metadata": {
        "id": "5ffa7009"
      },
      "source": [
        "### torch.utils.data.DataLoader로 데이터셋 로더 구성\n"
      ]
    },
    {
      "cell_type": "code",
      "execution_count": 6,
      "id": "0507e65f",
      "metadata": {
        "id": "0507e65f"
      },
      "outputs": [],
      "source": [
        "batch_size = 32  # batch_size 지정\n",
        "num_workers = 8  # Thread 숫자 지정 (병렬 처리에 활용할 쓰레드 숫자 지정)"
      ]
    },
    {
      "cell_type": "code",
      "execution_count": 7,
      "id": "d4d3317a",
      "metadata": {
        "id": "d4d3317a",
        "colab": {
          "base_uri": "https://localhost:8080/"
        },
        "outputId": "6081a960-0333-4ba5-bc20-21d4182f8445"
      },
      "outputs": [
        {
          "output_type": "stream",
          "name": "stderr",
          "text": [
            "/usr/local/lib/python3.10/dist-packages/torch/utils/data/dataloader.py:557: UserWarning: This DataLoader will create 8 worker processes in total. Our suggested max number of worker in current system is 2, which is smaller than what this DataLoader is going to create. Please be aware that excessive worker creation might get DataLoader running slow or even freeze, lower the worker number to avoid potential slowness/freeze if necessary.\n",
            "  warnings.warn(_create_warning_msg(\n"
          ]
        }
      ],
      "source": [
        "train_loader = torch.utils.data.DataLoader(\n",
        "    train, batch_size=batch_size, shuffle=True, num_workers=num_workers\n",
        ")"
      ]
    },
    {
      "cell_type": "code",
      "execution_count": 8,
      "id": "d08219f4",
      "metadata": {
        "id": "d08219f4"
      },
      "outputs": [],
      "source": [
        "test_loader = torch.utils.data.DataLoader(\n",
        "    test, batch_size=batch_size, shuffle=False, num_workers=num_workers\n",
        ")"
      ]
    },
    {
      "cell_type": "markdown",
      "id": "9268053d",
      "metadata": {
        "id": "9268053d"
      },
      "source": [
        "## 모델 생성\n"
      ]
    },
    {
      "cell_type": "code",
      "execution_count": 9,
      "id": "24fe4519",
      "metadata": {
        "id": "24fe4519",
        "colab": {
          "base_uri": "https://localhost:8080/"
        },
        "outputId": "02c80d60-73f4-4560-d8f4-6750583507dd"
      },
      "outputs": [
        {
          "output_type": "stream",
          "name": "stdout",
          "text": [
            "cpu\n"
          ]
        }
      ],
      "source": [
        "if torch.backends.mps.is_built():\n",
        "    # mac os mps 지원 체크\n",
        "    device = torch.device(\"mps\" if torch.backends.mps.is_built() else \"cpu\")\n",
        "else:\n",
        "    # cuda 사용 가능한지 체크\n",
        "    device = torch.device(\"cuda:0\" if torch.cuda.is_available() else \"cpu\")\n",
        "print(device)"
      ]
    },
    {
      "cell_type": "code",
      "execution_count": 10,
      "id": "ca213eb9",
      "metadata": {
        "id": "ca213eb9"
      },
      "outputs": [],
      "source": [
        "import torch.nn as nn\n",
        "import torch.optim as optim\n",
        "import torch.nn.functional as F\n",
        "\n",
        "\n",
        "class Net(nn.Module):\n",
        "    def __init__(self, num_classes):\n",
        "        super(Net, self).__init__()\n",
        "        self.fc1 = nn.Linear(28 * 28, 256)\n",
        "        self.fc2 = nn.Linear(256, 128)\n",
        "        self.fc3 = nn.Linear(128, 32)\n",
        "        # 마지막 출력층의 Neuron은 Class 개수로 설정\n",
        "        self.output = nn.Linear(32, num_classes)\n",
        "\n",
        "    def forward(self, x):\n",
        "        # (B, 1, 28, 28) -> (B, 28*28)\n",
        "        x = x.view(-1, 28 * 28)\n",
        "        x = F.relu(self.fc1(x))\n",
        "        x = F.relu(self.fc2(x))\n",
        "        x = F.relu(self.fc3(x))\n",
        "        x = self.output(x)\n",
        "        return x"
      ]
    },
    {
      "cell_type": "code",
      "execution_count": 11,
      "id": "dc743675",
      "metadata": {
        "id": "dc743675",
        "colab": {
          "base_uri": "https://localhost:8080/"
        },
        "outputId": "ce7febf1-3e1d-43c4-cc91-ee701cd59181"
      },
      "outputs": [
        {
          "output_type": "execute_result",
          "data": {
            "text/plain": [
              "Net(\n",
              "  (fc1): Linear(in_features=784, out_features=256, bias=True)\n",
              "  (fc2): Linear(in_features=256, out_features=128, bias=True)\n",
              "  (fc3): Linear(in_features=128, out_features=32, bias=True)\n",
              "  (output): Linear(in_features=32, out_features=10, bias=True)\n",
              ")"
            ]
          },
          "metadata": {},
          "execution_count": 11
        }
      ],
      "source": [
        "# 모델 생성\n",
        "model = Net(num_classes=10)\n",
        "\n",
        "# 모델을 device 에 올립니다. (cuda:0 혹은 cpu)\n",
        "model.to(device)\n",
        "model"
      ]
    },
    {
      "cell_type": "markdown",
      "id": "882dab36",
      "metadata": {
        "id": "882dab36"
      },
      "source": [
        "## 손실함수 / 옵티마이저 정의\n"
      ]
    },
    {
      "cell_type": "code",
      "execution_count": 12,
      "id": "a9f6ae86",
      "metadata": {
        "id": "a9f6ae86"
      },
      "outputs": [],
      "source": [
        "# Cross Entropy Loss 오차 정의\n",
        "loss_fn = nn.CrossEntropyLoss()\n",
        "\n",
        "# 옵티마이저 설정: model.paramters()와 learning_rate 설정\n",
        "optimizer = optim.Adam(model.parameters(), lr=0.005)"
      ]
    },
    {
      "cell_type": "markdown",
      "id": "8ed4d97f",
      "metadata": {
        "id": "8ed4d97f"
      },
      "source": [
        "## 훈련\n"
      ]
    },
    {
      "cell_type": "code",
      "execution_count": 13,
      "id": "f2e6da4c",
      "metadata": {
        "id": "f2e6da4c"
      },
      "outputs": [],
      "source": [
        "def train(model, train_loader, optimizer, loss_fn, device):\n",
        "    model.train()\n",
        "    final_loss = 0\n",
        "    running_acc = 0\n",
        "    for x, y in train_loader:\n",
        "        x, y = x.to(device), y.to(device)\n",
        "        # gradient 초기화\n",
        "        optimizer.zero_grad()\n",
        "        # forward pass\n",
        "        y_hat = model(x)\n",
        "        # loss 계산\n",
        "        loss = loss_fn(y_hat, y)\n",
        "        # backward pass\n",
        "        loss.backward()\n",
        "        # weight update\n",
        "        optimizer.step()\n",
        "        final_loss += loss.item()\n",
        "        running_acc += y_hat.argmax(dim=1).eq(y).sum().item() / len(y)\n",
        "    final_loss /= len(train_loader)\n",
        "    running_acc /= len(train_loader)\n",
        "    return final_loss, running_acc\n",
        "\n",
        "\n",
        "def evaluate(model, test_loader, loss_fn, device):\n",
        "    # 모델을 평가 모드로 설정\n",
        "    model.eval()\n",
        "    final_loss = 0\n",
        "    running_acc = 0\n",
        "    with torch.no_grad():\n",
        "\n",
        "        for x, y in test_loader:\n",
        "            # 데이터를 device에 올립니다.\n",
        "            x, y = x.to(device), y.to(device)\n",
        "            # forward pass\n",
        "            y_hat = model(x)\n",
        "            # loss 계산\n",
        "            loss = loss_fn(y_hat, y)\n",
        "            # loss 누적\n",
        "            final_loss += loss.item()\n",
        "            running_acc += y_hat.argmax(dim=1).eq(y).sum().item() / len(y)\n",
        "    final_loss /= len(test_loader)\n",
        "    running_acc /= len(test_loader)\n",
        "    return final_loss, running_acc"
      ]
    },
    {
      "cell_type": "code",
      "execution_count": 14,
      "id": "0dae3ae5",
      "metadata": {
        "id": "0dae3ae5",
        "colab": {
          "base_uri": "https://localhost:8080/",
          "height": 1000
        },
        "outputId": "7afb82fb-4a6c-4aa1-ca7a-c2ecae3e0d04"
      },
      "outputs": [
        {
          "output_type": "stream",
          "name": "stdout",
          "text": [
            "00000 [INFO] Model saved... 9999999999.00000 ===> 0.48905\n",
            "[000] loss: 0.52589 acc: 0.80850 val_loss: 0.48905 val_acc: 0.81869\n",
            "00001 [INFO] Model saved... 0.48905 ===> 0.43043\n",
            "[001] loss: 0.40660 acc: 0.85422 val_loss: 0.43043 val_acc: 0.84625\n",
            "00002 [INFO] Model saved... 0.43043 ===> 0.39849\n",
            "[002] loss: 0.37182 acc: 0.86598 val_loss: 0.39849 val_acc: 0.85903\n",
            "00003 [INFO] Model saved... 0.39849 ===> 0.39231\n",
            "[003] loss: 0.34969 acc: 0.87332 val_loss: 0.39231 val_acc: 0.86172\n",
            "00004 [INFO] Model saved... 0.39231 ===> 0.38582\n",
            "[004] loss: 0.34581 acc: 0.87605 val_loss: 0.38582 val_acc: 0.86332\n",
            "[005] loss: 0.33232 acc: 0.88128 val_loss: 0.38662 val_acc: 0.86951\n",
            "00006 [INFO] Model saved... 0.38582 ===> 0.38037\n",
            "[006] loss: 0.32085 acc: 0.88443 val_loss: 0.38037 val_acc: 0.86681\n",
            "00007 [INFO] Model saved... 0.38037 ===> 0.37736\n",
            "[007] loss: 0.31991 acc: 0.88460 val_loss: 0.37736 val_acc: 0.87141\n",
            "[008] loss: 0.30428 acc: 0.89050 val_loss: 0.38704 val_acc: 0.86811\n",
            "00009 [INFO] Model saved... 0.37736 ===> 0.37540\n",
            "[009] loss: 0.31021 acc: 0.88982 val_loss: 0.37540 val_acc: 0.87500\n",
            "[010] loss: 0.29655 acc: 0.89383 val_loss: 0.39006 val_acc: 0.87001\n",
            "[011] loss: 0.29407 acc: 0.89352 val_loss: 0.42559 val_acc: 0.86711\n",
            "[012] loss: 0.29089 acc: 0.89422 val_loss: 0.37590 val_acc: 0.87540\n",
            "[013] loss: 0.28311 acc: 0.89685 val_loss: 0.37867 val_acc: 0.87620\n",
            "[014] loss: 0.28278 acc: 0.89695 val_loss: 0.41282 val_acc: 0.86542\n",
            "[015] loss: 0.28542 acc: 0.89790 val_loss: 0.39311 val_acc: 0.87220\n",
            "00016 [INFO] Model saved... 0.37540 ===> 0.37157\n",
            "[016] loss: 0.27678 acc: 0.89890 val_loss: 0.37157 val_acc: 0.87370\n",
            "[017] loss: 0.28296 acc: 0.89895 val_loss: 0.39347 val_acc: 0.87760\n",
            "[018] loss: 0.27000 acc: 0.90203 val_loss: 0.42457 val_acc: 0.86432\n",
            "[019] loss: 0.26848 acc: 0.90405 val_loss: 0.43377 val_acc: 0.87510\n",
            "[020] loss: 0.26713 acc: 0.90377 val_loss: 0.41522 val_acc: 0.87989\n",
            "[021] loss: 0.25906 acc: 0.90650 val_loss: 0.41755 val_acc: 0.86841\n",
            "[022] loss: 0.26120 acc: 0.90672 val_loss: 0.40402 val_acc: 0.87480\n",
            "[023] loss: 0.26544 acc: 0.90715 val_loss: 0.48197 val_acc: 0.87081\n",
            "[024] loss: 0.25269 acc: 0.90980 val_loss: 0.42213 val_acc: 0.87290\n",
            "[025] loss: 0.25253 acc: 0.90940 val_loss: 0.41018 val_acc: 0.87909\n",
            "[026] loss: 0.25441 acc: 0.90765 val_loss: 0.43549 val_acc: 0.86911\n",
            "[027] loss: 0.25398 acc: 0.90882 val_loss: 0.41962 val_acc: 0.87081\n"
          ]
        },
        {
          "output_type": "error",
          "ename": "KeyboardInterrupt",
          "evalue": "",
          "traceback": [
            "\u001b[0;31m---------------------------------------------------------------------------\u001b[0m",
            "\u001b[0;31mKeyboardInterrupt\u001b[0m                         Traceback (most recent call last)",
            "\u001b[0;32m<ipython-input-14-274362e8c7f2>\u001b[0m in \u001b[0;36m<cell line: 13>\u001b[0;34m()\u001b[0m\n\u001b[1;32m     12\u001b[0m \u001b[0;34m\u001b[0m\u001b[0m\n\u001b[1;32m     13\u001b[0m \u001b[0;32mfor\u001b[0m \u001b[0mepoch\u001b[0m \u001b[0;32min\u001b[0m \u001b[0mrange\u001b[0m\u001b[0;34m(\u001b[0m\u001b[0mnum_epoch\u001b[0m\u001b[0;34m)\u001b[0m\u001b[0;34m:\u001b[0m\u001b[0;34m\u001b[0m\u001b[0;34m\u001b[0m\u001b[0m\n\u001b[0;32m---> 14\u001b[0;31m     \u001b[0mloss\u001b[0m\u001b[0;34m,\u001b[0m \u001b[0macc\u001b[0m \u001b[0;34m=\u001b[0m \u001b[0mtrain\u001b[0m\u001b[0;34m(\u001b[0m\u001b[0mmodel\u001b[0m\u001b[0;34m,\u001b[0m \u001b[0mtrain_loader\u001b[0m\u001b[0;34m,\u001b[0m \u001b[0moptimizer\u001b[0m\u001b[0;34m,\u001b[0m \u001b[0mloss_fn\u001b[0m\u001b[0;34m,\u001b[0m \u001b[0mdevice\u001b[0m\u001b[0;34m)\u001b[0m\u001b[0;34m\u001b[0m\u001b[0;34m\u001b[0m\u001b[0m\n\u001b[0m\u001b[1;32m     15\u001b[0m     \u001b[0mval_loss\u001b[0m\u001b[0;34m,\u001b[0m \u001b[0mval_acc\u001b[0m \u001b[0;34m=\u001b[0m \u001b[0mevaluate\u001b[0m\u001b[0;34m(\u001b[0m\u001b[0mmodel\u001b[0m\u001b[0;34m,\u001b[0m \u001b[0mtest_loader\u001b[0m\u001b[0;34m,\u001b[0m \u001b[0mloss_fn\u001b[0m\u001b[0;34m,\u001b[0m \u001b[0mdevice\u001b[0m\u001b[0;34m)\u001b[0m\u001b[0;34m\u001b[0m\u001b[0;34m\u001b[0m\u001b[0m\n\u001b[1;32m     16\u001b[0m     \u001b[0mlosses\u001b[0m\u001b[0;34m.\u001b[0m\u001b[0mappend\u001b[0m\u001b[0;34m(\u001b[0m\u001b[0mloss\u001b[0m\u001b[0;34m)\u001b[0m\u001b[0;34m\u001b[0m\u001b[0;34m\u001b[0m\u001b[0m\n",
            "\u001b[0;32m<ipython-input-13-e722e34667c9>\u001b[0m in \u001b[0;36mtrain\u001b[0;34m(model, train_loader, optimizer, loss_fn, device)\u001b[0m\n\u001b[1;32m     14\u001b[0m         \u001b[0mloss\u001b[0m\u001b[0;34m.\u001b[0m\u001b[0mbackward\u001b[0m\u001b[0;34m(\u001b[0m\u001b[0;34m)\u001b[0m\u001b[0;34m\u001b[0m\u001b[0;34m\u001b[0m\u001b[0m\n\u001b[1;32m     15\u001b[0m         \u001b[0;31m# weight update\u001b[0m\u001b[0;34m\u001b[0m\u001b[0;34m\u001b[0m\u001b[0m\n\u001b[0;32m---> 16\u001b[0;31m         \u001b[0moptimizer\u001b[0m\u001b[0;34m.\u001b[0m\u001b[0mstep\u001b[0m\u001b[0;34m(\u001b[0m\u001b[0;34m)\u001b[0m\u001b[0;34m\u001b[0m\u001b[0;34m\u001b[0m\u001b[0m\n\u001b[0m\u001b[1;32m     17\u001b[0m         \u001b[0mfinal_loss\u001b[0m \u001b[0;34m+=\u001b[0m \u001b[0mloss\u001b[0m\u001b[0;34m.\u001b[0m\u001b[0mitem\u001b[0m\u001b[0;34m(\u001b[0m\u001b[0;34m)\u001b[0m\u001b[0;34m\u001b[0m\u001b[0;34m\u001b[0m\u001b[0m\n\u001b[1;32m     18\u001b[0m         \u001b[0mrunning_acc\u001b[0m \u001b[0;34m+=\u001b[0m \u001b[0my_hat\u001b[0m\u001b[0;34m.\u001b[0m\u001b[0margmax\u001b[0m\u001b[0;34m(\u001b[0m\u001b[0mdim\u001b[0m\u001b[0;34m=\u001b[0m\u001b[0;36m1\u001b[0m\u001b[0;34m)\u001b[0m\u001b[0;34m.\u001b[0m\u001b[0meq\u001b[0m\u001b[0;34m(\u001b[0m\u001b[0my\u001b[0m\u001b[0;34m)\u001b[0m\u001b[0;34m.\u001b[0m\u001b[0msum\u001b[0m\u001b[0;34m(\u001b[0m\u001b[0;34m)\u001b[0m\u001b[0;34m.\u001b[0m\u001b[0mitem\u001b[0m\u001b[0;34m(\u001b[0m\u001b[0;34m)\u001b[0m \u001b[0;34m/\u001b[0m \u001b[0mlen\u001b[0m\u001b[0;34m(\u001b[0m\u001b[0my\u001b[0m\u001b[0;34m)\u001b[0m\u001b[0;34m\u001b[0m\u001b[0;34m\u001b[0m\u001b[0m\n",
            "\u001b[0;32m/usr/local/lib/python3.10/dist-packages/torch/optim/optimizer.py\u001b[0m in \u001b[0;36mwrapper\u001b[0;34m(*args, **kwargs)\u001b[0m\n\u001b[1;32m    482\u001b[0m                             )\n\u001b[1;32m    483\u001b[0m \u001b[0;34m\u001b[0m\u001b[0m\n\u001b[0;32m--> 484\u001b[0;31m                 \u001b[0mout\u001b[0m \u001b[0;34m=\u001b[0m \u001b[0mfunc\u001b[0m\u001b[0;34m(\u001b[0m\u001b[0;34m*\u001b[0m\u001b[0margs\u001b[0m\u001b[0;34m,\u001b[0m \u001b[0;34m**\u001b[0m\u001b[0mkwargs\u001b[0m\u001b[0;34m)\u001b[0m\u001b[0;34m\u001b[0m\u001b[0;34m\u001b[0m\u001b[0m\n\u001b[0m\u001b[1;32m    485\u001b[0m                 \u001b[0mself\u001b[0m\u001b[0;34m.\u001b[0m\u001b[0m_optimizer_step_code\u001b[0m\u001b[0;34m(\u001b[0m\u001b[0;34m)\u001b[0m\u001b[0;34m\u001b[0m\u001b[0;34m\u001b[0m\u001b[0m\n\u001b[1;32m    486\u001b[0m \u001b[0;34m\u001b[0m\u001b[0m\n",
            "\u001b[0;32m/usr/local/lib/python3.10/dist-packages/torch/optim/optimizer.py\u001b[0m in \u001b[0;36m_use_grad\u001b[0;34m(self, *args, **kwargs)\u001b[0m\n\u001b[1;32m     87\u001b[0m             \u001b[0mtorch\u001b[0m\u001b[0;34m.\u001b[0m\u001b[0mset_grad_enabled\u001b[0m\u001b[0;34m(\u001b[0m\u001b[0mself\u001b[0m\u001b[0;34m.\u001b[0m\u001b[0mdefaults\u001b[0m\u001b[0;34m[\u001b[0m\u001b[0;34m\"differentiable\"\u001b[0m\u001b[0;34m]\u001b[0m\u001b[0;34m)\u001b[0m\u001b[0;34m\u001b[0m\u001b[0;34m\u001b[0m\u001b[0m\n\u001b[1;32m     88\u001b[0m             \u001b[0mtorch\u001b[0m\u001b[0;34m.\u001b[0m\u001b[0m_dynamo\u001b[0m\u001b[0;34m.\u001b[0m\u001b[0mgraph_break\u001b[0m\u001b[0;34m(\u001b[0m\u001b[0;34m)\u001b[0m\u001b[0;34m\u001b[0m\u001b[0;34m\u001b[0m\u001b[0m\n\u001b[0;32m---> 89\u001b[0;31m             \u001b[0mret\u001b[0m \u001b[0;34m=\u001b[0m \u001b[0mfunc\u001b[0m\u001b[0;34m(\u001b[0m\u001b[0mself\u001b[0m\u001b[0;34m,\u001b[0m \u001b[0;34m*\u001b[0m\u001b[0margs\u001b[0m\u001b[0;34m,\u001b[0m \u001b[0;34m**\u001b[0m\u001b[0mkwargs\u001b[0m\u001b[0;34m)\u001b[0m\u001b[0;34m\u001b[0m\u001b[0;34m\u001b[0m\u001b[0m\n\u001b[0m\u001b[1;32m     90\u001b[0m         \u001b[0;32mfinally\u001b[0m\u001b[0;34m:\u001b[0m\u001b[0;34m\u001b[0m\u001b[0;34m\u001b[0m\u001b[0m\n\u001b[1;32m     91\u001b[0m             \u001b[0mtorch\u001b[0m\u001b[0;34m.\u001b[0m\u001b[0m_dynamo\u001b[0m\u001b[0;34m.\u001b[0m\u001b[0mgraph_break\u001b[0m\u001b[0;34m(\u001b[0m\u001b[0;34m)\u001b[0m\u001b[0;34m\u001b[0m\u001b[0;34m\u001b[0m\u001b[0m\n",
            "\u001b[0;32m/usr/local/lib/python3.10/dist-packages/torch/optim/adam.py\u001b[0m in \u001b[0;36mstep\u001b[0;34m(self, closure)\u001b[0m\n\u001b[1;32m    224\u001b[0m             )\n\u001b[1;32m    225\u001b[0m \u001b[0;34m\u001b[0m\u001b[0m\n\u001b[0;32m--> 226\u001b[0;31m             adam(\n\u001b[0m\u001b[1;32m    227\u001b[0m                 \u001b[0mparams_with_grad\u001b[0m\u001b[0;34m,\u001b[0m\u001b[0;34m\u001b[0m\u001b[0;34m\u001b[0m\u001b[0m\n\u001b[1;32m    228\u001b[0m                 \u001b[0mgrads\u001b[0m\u001b[0;34m,\u001b[0m\u001b[0;34m\u001b[0m\u001b[0;34m\u001b[0m\u001b[0m\n",
            "\u001b[0;32m/usr/local/lib/python3.10/dist-packages/torch/optim/optimizer.py\u001b[0m in \u001b[0;36mmaybe_fallback\u001b[0;34m(*args, **kwargs)\u001b[0m\n\u001b[1;32m    159\u001b[0m                 \u001b[0;32mreturn\u001b[0m \u001b[0mdisabled_func\u001b[0m\u001b[0;34m(\u001b[0m\u001b[0;34m*\u001b[0m\u001b[0margs\u001b[0m\u001b[0;34m,\u001b[0m \u001b[0;34m**\u001b[0m\u001b[0mkwargs\u001b[0m\u001b[0;34m)\u001b[0m\u001b[0;34m\u001b[0m\u001b[0;34m\u001b[0m\u001b[0m\n\u001b[1;32m    160\u001b[0m             \u001b[0;32melse\u001b[0m\u001b[0;34m:\u001b[0m\u001b[0;34m\u001b[0m\u001b[0;34m\u001b[0m\u001b[0m\n\u001b[0;32m--> 161\u001b[0;31m                 \u001b[0;32mreturn\u001b[0m \u001b[0mfunc\u001b[0m\u001b[0;34m(\u001b[0m\u001b[0;34m*\u001b[0m\u001b[0margs\u001b[0m\u001b[0;34m,\u001b[0m \u001b[0;34m**\u001b[0m\u001b[0mkwargs\u001b[0m\u001b[0;34m)\u001b[0m\u001b[0;34m\u001b[0m\u001b[0;34m\u001b[0m\u001b[0m\n\u001b[0m\u001b[1;32m    162\u001b[0m \u001b[0;34m\u001b[0m\u001b[0m\n\u001b[1;32m    163\u001b[0m         \u001b[0;32mreturn\u001b[0m \u001b[0mmaybe_fallback\u001b[0m\u001b[0;34m\u001b[0m\u001b[0;34m\u001b[0m\u001b[0m\n",
            "\u001b[0;32m/usr/local/lib/python3.10/dist-packages/torch/optim/adam.py\u001b[0m in \u001b[0;36madam\u001b[0;34m(params, grads, exp_avgs, exp_avg_sqs, max_exp_avg_sqs, state_steps, foreach, capturable, differentiable, fused, grad_scale, found_inf, has_complex, amsgrad, beta1, beta2, lr, weight_decay, eps, maximize)\u001b[0m\n\u001b[1;32m    764\u001b[0m         \u001b[0mfunc\u001b[0m \u001b[0;34m=\u001b[0m \u001b[0m_single_tensor_adam\u001b[0m\u001b[0;34m\u001b[0m\u001b[0;34m\u001b[0m\u001b[0m\n\u001b[1;32m    765\u001b[0m \u001b[0;34m\u001b[0m\u001b[0m\n\u001b[0;32m--> 766\u001b[0;31m     func(\n\u001b[0m\u001b[1;32m    767\u001b[0m         \u001b[0mparams\u001b[0m\u001b[0;34m,\u001b[0m\u001b[0;34m\u001b[0m\u001b[0;34m\u001b[0m\u001b[0m\n\u001b[1;32m    768\u001b[0m         \u001b[0mgrads\u001b[0m\u001b[0;34m,\u001b[0m\u001b[0;34m\u001b[0m\u001b[0;34m\u001b[0m\u001b[0m\n",
            "\u001b[0;32m/usr/local/lib/python3.10/dist-packages/torch/optim/adam.py\u001b[0m in \u001b[0;36m_single_tensor_adam\u001b[0;34m(params, grads, exp_avgs, exp_avg_sqs, max_exp_avg_sqs, state_steps, grad_scale, found_inf, amsgrad, has_complex, beta1, beta2, lr, weight_decay, eps, maximize, capturable, differentiable)\u001b[0m\n\u001b[1;32m    429\u001b[0m                 \u001b[0mdenom\u001b[0m \u001b[0;34m=\u001b[0m \u001b[0;34m(\u001b[0m\u001b[0mmax_exp_avg_sqs\u001b[0m\u001b[0;34m[\u001b[0m\u001b[0mi\u001b[0m\u001b[0;34m]\u001b[0m\u001b[0;34m.\u001b[0m\u001b[0msqrt\u001b[0m\u001b[0;34m(\u001b[0m\u001b[0;34m)\u001b[0m \u001b[0;34m/\u001b[0m \u001b[0mbias_correction2_sqrt\u001b[0m\u001b[0;34m)\u001b[0m\u001b[0;34m.\u001b[0m\u001b[0madd_\u001b[0m\u001b[0;34m(\u001b[0m\u001b[0meps\u001b[0m\u001b[0;34m)\u001b[0m\u001b[0;34m\u001b[0m\u001b[0;34m\u001b[0m\u001b[0m\n\u001b[1;32m    430\u001b[0m             \u001b[0;32melse\u001b[0m\u001b[0;34m:\u001b[0m\u001b[0;34m\u001b[0m\u001b[0;34m\u001b[0m\u001b[0m\n\u001b[0;32m--> 431\u001b[0;31m                 \u001b[0mdenom\u001b[0m \u001b[0;34m=\u001b[0m \u001b[0;34m(\u001b[0m\u001b[0mexp_avg_sq\u001b[0m\u001b[0;34m.\u001b[0m\u001b[0msqrt\u001b[0m\u001b[0;34m(\u001b[0m\u001b[0;34m)\u001b[0m \u001b[0;34m/\u001b[0m \u001b[0mbias_correction2_sqrt\u001b[0m\u001b[0;34m)\u001b[0m\u001b[0;34m.\u001b[0m\u001b[0madd_\u001b[0m\u001b[0;34m(\u001b[0m\u001b[0meps\u001b[0m\u001b[0;34m)\u001b[0m\u001b[0;34m\u001b[0m\u001b[0;34m\u001b[0m\u001b[0m\n\u001b[0m\u001b[1;32m    432\u001b[0m \u001b[0;34m\u001b[0m\u001b[0m\n\u001b[1;32m    433\u001b[0m             \u001b[0mparam\u001b[0m\u001b[0;34m.\u001b[0m\u001b[0maddcdiv_\u001b[0m\u001b[0;34m(\u001b[0m\u001b[0mexp_avg\u001b[0m\u001b[0;34m,\u001b[0m \u001b[0mdenom\u001b[0m\u001b[0;34m,\u001b[0m \u001b[0mvalue\u001b[0m\u001b[0;34m=\u001b[0m\u001b[0;34m-\u001b[0m\u001b[0mstep_size\u001b[0m\u001b[0;34m)\u001b[0m\u001b[0;34m\u001b[0m\u001b[0;34m\u001b[0m\u001b[0m\n",
            "\u001b[0;31mKeyboardInterrupt\u001b[0m: "
          ]
        }
      ],
      "source": [
        "# 최대 반복 횟수 정의\n",
        "num_epoch = 20\n",
        "\n",
        "# loss 기록하기 위한 list 정의\n",
        "losses = []\n",
        "val_losses = []\n",
        "\n",
        "MIN_LOSS = 9999999999.0\n",
        "\n",
        "# 가중치를 저장할 파일명 정의\n",
        "STATE_DICT_PATH = \"mymodel.pth\"\n",
        "\n",
        "for epoch in range(num_epoch):\n",
        "    loss, acc = train(model, train_loader, optimizer, loss_fn, device)\n",
        "    val_loss, val_acc = evaluate(model, test_loader, loss_fn, device)\n",
        "    losses.append(loss)\n",
        "    val_losses.append(val_loss)\n",
        "    if val_loss < MIN_LOSS:\n",
        "        print(f\"{epoch:05d} [INFO] Model saved... {MIN_LOSS:.5f} ===> {val_loss:.5f}\")\n",
        "        MIN_LOSS = val_loss\n",
        "        torch.save(model.state_dict(), STATE_DICT_PATH)\n",
        "\n",
        "    print(\n",
        "        f\"[{epoch:03d}] loss: {loss:.5f} acc: {acc:.5f} val_loss: {val_loss:.5f} val_acc: {val_acc:.5f}\"\n",
        "    )"
      ]
    },
    {
      "cell_type": "markdown",
      "id": "0c72f3aa",
      "metadata": {
        "id": "0c72f3aa"
      },
      "source": [
        "## 저장한 가중치 로드\n"
      ]
    },
    {
      "cell_type": "code",
      "execution_count": 15,
      "id": "0320ced7",
      "metadata": {
        "id": "0320ced7",
        "colab": {
          "base_uri": "https://localhost:8080/"
        },
        "outputId": "990c2a49-5098-4612-86a7-a851709b908f"
      },
      "outputs": [
        {
          "output_type": "stream",
          "name": "stderr",
          "text": [
            "<ipython-input-15-05479f6819bb>:1: FutureWarning: You are using `torch.load` with `weights_only=False` (the current default value), which uses the default pickle module implicitly. It is possible to construct malicious pickle data which will execute arbitrary code during unpickling (See https://github.com/pytorch/pytorch/blob/main/SECURITY.md#untrusted-models for more details). In a future release, the default value for `weights_only` will be flipped to `True`. This limits the functions that could be executed during unpickling. Arbitrary objects will no longer be allowed to be loaded via this mode unless they are explicitly allowlisted by the user via `torch.serialization.add_safe_globals`. We recommend you start setting `weights_only=True` for any use case where you don't have full control of the loaded file. Please open an issue on GitHub for any issues related to this experimental feature.\n",
            "  model.load_state_dict(torch.load(STATE_DICT_PATH))\n"
          ]
        },
        {
          "output_type": "execute_result",
          "data": {
            "text/plain": [
              "<All keys matched successfully>"
            ]
          },
          "metadata": {},
          "execution_count": 15
        }
      ],
      "source": [
        "model.load_state_dict(torch.load(STATE_DICT_PATH))"
      ]
    },
    {
      "cell_type": "markdown",
      "id": "172d27b6",
      "metadata": {
        "id": "172d27b6"
      },
      "source": [
        "## 최종 성능 평가\n"
      ]
    },
    {
      "cell_type": "code",
      "execution_count": 16,
      "id": "c146859d",
      "metadata": {
        "id": "c146859d",
        "colab": {
          "base_uri": "https://localhost:8080/"
        },
        "outputId": "dfc151d5-0e73-4ccf-f1b8-d983d6e82a74"
      },
      "outputs": [
        {
          "output_type": "stream",
          "name": "stdout",
          "text": [
            "Loss: 0.25398, Accuracy: 0.87370\n"
          ]
        }
      ],
      "source": [
        "# 검증모드 진입\n",
        "model.eval()\n",
        "# loss 초기화\n",
        "running_loss = 0\n",
        "# 정확도 계산\n",
        "running_acc = 0\n",
        "\n",
        "with torch.no_grad():\n",
        "    for (\n",
        "        x,\n",
        "        y,\n",
        "    ) in test_loader:\n",
        "        x, y = x.to(device), y.to(device)\n",
        "\n",
        "        output = model(x)\n",
        "\n",
        "        running_loss += loss\n",
        "        running_acc += output.argmax(dim=1).eq(y).sum().item() / len(y)\n",
        "\n",
        "    loss = running_loss / len(test_loader)\n",
        "    acc = running_acc / len(test_loader)\n",
        "\n",
        "# 최종 훈련 결과확인\n",
        "print(f\"Loss: {loss:.5f}, Accuracy: {acc:.5f}\")"
      ]
    }
  ],
  "metadata": {
    "kernelspec": {
      "display_name": "Python 3 (ipykernel)",
      "language": "python",
      "name": "python3"
    },
    "language_info": {
      "codemirror_mode": {
        "name": "ipython",
        "version": 3
      },
      "file_extension": ".py",
      "mimetype": "text/x-python",
      "name": "python",
      "nbconvert_exporter": "python",
      "pygments_lexer": "ipython3",
      "version": "3.9.18"
    },
    "colab": {
      "provenance": [],
      "include_colab_link": true
    }
  },
  "nbformat": 4,
  "nbformat_minor": 5
}